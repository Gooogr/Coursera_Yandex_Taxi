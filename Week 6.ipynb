{
 "cells": [
  {
   "cell_type": "code",
   "execution_count": 215,
   "metadata": {},
   "outputs": [],
   "source": [
    "%matplotlib inline\n",
    "import pandas as pd\n",
    "import numpy as np\n",
    "import matplotlib.pyplot as plt\n",
    "import matplotlib.cm as cm\n",
    "plt.style.use('ggplot')\n",
    "from sklearn import linear_model\n",
    "from sklearn.model_selection import GridSearchCV\n",
    "from sklearn.cluster import KMeans\n",
    "from sklearn.metrics import silhouette_samples, silhouette_score\n",
    "from sklearn.preprocessing import StandardScaler\n",
    "# from sklearn.decomposition import PCA\n",
    "from sklearn.linear_model import Ridge\n",
    "from datetime import timedelta, date\n",
    "from workalendar.usa import new_york\n",
    "from scipy.stats import pearsonr"
   ]
  },
  {
   "cell_type": "markdown",
   "metadata": {},
   "source": [
    "# Импорт результатов прошлой недели"
   ]
  },
  {
   "cell_type": "markdown",
   "metadata": {},
   "source": [
    "**Чтобы не загромождать расчет, результаты 5-ой недели приложены в отдельном файле.\n",
    "Q_may = 17.5784369118**"
   ]
  },
  {
   "cell_type": "markdown",
   "metadata": {},
   "source": [
    "На 5-ой недели были использованы данные с января 2016 года. Добавим данные за 2015 и 2014 года."
   ]
  },
  {
   "cell_type": "code",
   "execution_count": 216,
   "metadata": {},
   "outputs": [],
   "source": [
    "path_list = ['./TAXI DATA/CSVs/agr_2015.csv', './TAXI DATA/CSVs/agr_2016.csv']"
   ]
  },
  {
   "cell_type": "code",
   "execution_count": 217,
   "metadata": {},
   "outputs": [
    {
     "data": {
      "text/html": [
       "<div>\n",
       "<style scoped>\n",
       "    .dataframe tbody tr th:only-of-type {\n",
       "        vertical-align: middle;\n",
       "    }\n",
       "\n",
       "    .dataframe tbody tr th {\n",
       "        vertical-align: top;\n",
       "    }\n",
       "\n",
       "    .dataframe thead th {\n",
       "        text-align: right;\n",
       "    }\n",
       "</style>\n",
       "<table border=\"1\" class=\"dataframe\">\n",
       "  <thead>\n",
       "    <tr style=\"text-align: right;\">\n",
       "      <th></th>\n",
       "      <th>1</th>\n",
       "      <th>2</th>\n",
       "      <th>3</th>\n",
       "      <th>4</th>\n",
       "      <th>5</th>\n",
       "      <th>6</th>\n",
       "      <th>7</th>\n",
       "      <th>8</th>\n",
       "      <th>9</th>\n",
       "      <th>10</th>\n",
       "      <th>...</th>\n",
       "      <th>2491</th>\n",
       "      <th>2492</th>\n",
       "      <th>2493</th>\n",
       "      <th>2494</th>\n",
       "      <th>2495</th>\n",
       "      <th>2496</th>\n",
       "      <th>2497</th>\n",
       "      <th>2498</th>\n",
       "      <th>2499</th>\n",
       "      <th>2500</th>\n",
       "    </tr>\n",
       "    <tr>\n",
       "      <th>dt</th>\n",
       "      <th></th>\n",
       "      <th></th>\n",
       "      <th></th>\n",
       "      <th></th>\n",
       "      <th></th>\n",
       "      <th></th>\n",
       "      <th></th>\n",
       "      <th></th>\n",
       "      <th></th>\n",
       "      <th></th>\n",
       "      <th></th>\n",
       "      <th></th>\n",
       "      <th></th>\n",
       "      <th></th>\n",
       "      <th></th>\n",
       "      <th></th>\n",
       "      <th></th>\n",
       "      <th></th>\n",
       "      <th></th>\n",
       "      <th></th>\n",
       "      <th></th>\n",
       "    </tr>\n",
       "  </thead>\n",
       "  <tbody>\n",
       "    <tr>\n",
       "      <th>2015-01-01 00:00:00</th>\n",
       "      <td>0.0</td>\n",
       "      <td>0.0</td>\n",
       "      <td>0.0</td>\n",
       "      <td>0.0</td>\n",
       "      <td>0.0</td>\n",
       "      <td>0.0</td>\n",
       "      <td>0.0</td>\n",
       "      <td>0.0</td>\n",
       "      <td>0.0</td>\n",
       "      <td>0.0</td>\n",
       "      <td>...</td>\n",
       "      <td>0.0</td>\n",
       "      <td>0.0</td>\n",
       "      <td>0.0</td>\n",
       "      <td>0.0</td>\n",
       "      <td>0.0</td>\n",
       "      <td>0.0</td>\n",
       "      <td>0.0</td>\n",
       "      <td>0.0</td>\n",
       "      <td>0.0</td>\n",
       "      <td>0.0</td>\n",
       "    </tr>\n",
       "    <tr>\n",
       "      <th>2015-01-01 01:00:00</th>\n",
       "      <td>0.0</td>\n",
       "      <td>0.0</td>\n",
       "      <td>0.0</td>\n",
       "      <td>0.0</td>\n",
       "      <td>0.0</td>\n",
       "      <td>0.0</td>\n",
       "      <td>0.0</td>\n",
       "      <td>0.0</td>\n",
       "      <td>0.0</td>\n",
       "      <td>0.0</td>\n",
       "      <td>...</td>\n",
       "      <td>0.0</td>\n",
       "      <td>0.0</td>\n",
       "      <td>0.0</td>\n",
       "      <td>0.0</td>\n",
       "      <td>0.0</td>\n",
       "      <td>0.0</td>\n",
       "      <td>0.0</td>\n",
       "      <td>0.0</td>\n",
       "      <td>0.0</td>\n",
       "      <td>0.0</td>\n",
       "    </tr>\n",
       "    <tr>\n",
       "      <th>2015-01-01 02:00:00</th>\n",
       "      <td>0.0</td>\n",
       "      <td>0.0</td>\n",
       "      <td>0.0</td>\n",
       "      <td>0.0</td>\n",
       "      <td>0.0</td>\n",
       "      <td>0.0</td>\n",
       "      <td>0.0</td>\n",
       "      <td>0.0</td>\n",
       "      <td>0.0</td>\n",
       "      <td>0.0</td>\n",
       "      <td>...</td>\n",
       "      <td>0.0</td>\n",
       "      <td>0.0</td>\n",
       "      <td>0.0</td>\n",
       "      <td>0.0</td>\n",
       "      <td>0.0</td>\n",
       "      <td>0.0</td>\n",
       "      <td>0.0</td>\n",
       "      <td>0.0</td>\n",
       "      <td>0.0</td>\n",
       "      <td>0.0</td>\n",
       "    </tr>\n",
       "    <tr>\n",
       "      <th>2015-01-01 03:00:00</th>\n",
       "      <td>0.0</td>\n",
       "      <td>0.0</td>\n",
       "      <td>0.0</td>\n",
       "      <td>0.0</td>\n",
       "      <td>0.0</td>\n",
       "      <td>0.0</td>\n",
       "      <td>0.0</td>\n",
       "      <td>0.0</td>\n",
       "      <td>0.0</td>\n",
       "      <td>0.0</td>\n",
       "      <td>...</td>\n",
       "      <td>0.0</td>\n",
       "      <td>0.0</td>\n",
       "      <td>0.0</td>\n",
       "      <td>0.0</td>\n",
       "      <td>0.0</td>\n",
       "      <td>0.0</td>\n",
       "      <td>0.0</td>\n",
       "      <td>0.0</td>\n",
       "      <td>0.0</td>\n",
       "      <td>0.0</td>\n",
       "    </tr>\n",
       "    <tr>\n",
       "      <th>2015-01-01 04:00:00</th>\n",
       "      <td>0.0</td>\n",
       "      <td>0.0</td>\n",
       "      <td>0.0</td>\n",
       "      <td>0.0</td>\n",
       "      <td>0.0</td>\n",
       "      <td>0.0</td>\n",
       "      <td>0.0</td>\n",
       "      <td>0.0</td>\n",
       "      <td>0.0</td>\n",
       "      <td>0.0</td>\n",
       "      <td>...</td>\n",
       "      <td>0.0</td>\n",
       "      <td>0.0</td>\n",
       "      <td>0.0</td>\n",
       "      <td>0.0</td>\n",
       "      <td>0.0</td>\n",
       "      <td>0.0</td>\n",
       "      <td>0.0</td>\n",
       "      <td>0.0</td>\n",
       "      <td>0.0</td>\n",
       "      <td>0.0</td>\n",
       "    </tr>\n",
       "  </tbody>\n",
       "</table>\n",
       "<p>5 rows × 2500 columns</p>\n",
       "</div>"
      ],
      "text/plain": [
       "                       1    2    3    4    5    6    7    8    9   10  ...   \\\n",
       "dt                                                                     ...    \n",
       "2015-01-01 00:00:00  0.0  0.0  0.0  0.0  0.0  0.0  0.0  0.0  0.0  0.0  ...    \n",
       "2015-01-01 01:00:00  0.0  0.0  0.0  0.0  0.0  0.0  0.0  0.0  0.0  0.0  ...    \n",
       "2015-01-01 02:00:00  0.0  0.0  0.0  0.0  0.0  0.0  0.0  0.0  0.0  0.0  ...    \n",
       "2015-01-01 03:00:00  0.0  0.0  0.0  0.0  0.0  0.0  0.0  0.0  0.0  0.0  ...    \n",
       "2015-01-01 04:00:00  0.0  0.0  0.0  0.0  0.0  0.0  0.0  0.0  0.0  0.0  ...    \n",
       "\n",
       "                     2491  2492  2493  2494  2495  2496  2497  2498  2499  \\\n",
       "dt                                                                          \n",
       "2015-01-01 00:00:00   0.0   0.0   0.0   0.0   0.0   0.0   0.0   0.0   0.0   \n",
       "2015-01-01 01:00:00   0.0   0.0   0.0   0.0   0.0   0.0   0.0   0.0   0.0   \n",
       "2015-01-01 02:00:00   0.0   0.0   0.0   0.0   0.0   0.0   0.0   0.0   0.0   \n",
       "2015-01-01 03:00:00   0.0   0.0   0.0   0.0   0.0   0.0   0.0   0.0   0.0   \n",
       "2015-01-01 04:00:00   0.0   0.0   0.0   0.0   0.0   0.0   0.0   0.0   0.0   \n",
       "\n",
       "                     2500  \n",
       "dt                         \n",
       "2015-01-01 00:00:00   0.0  \n",
       "2015-01-01 01:00:00   0.0  \n",
       "2015-01-01 02:00:00   0.0  \n",
       "2015-01-01 03:00:00   0.0  \n",
       "2015-01-01 04:00:00   0.0  \n",
       "\n",
       "[5 rows x 2500 columns]"
      ]
     },
     "execution_count": 217,
     "metadata": {},
     "output_type": "execute_result"
    }
   ],
   "source": [
    "raw_data = pd.DataFrame()\n",
    "for path in path_list:\n",
    "    piece_data = pd.read_csv(path, sep = ',')\n",
    "    piece_data.set_index('dt', inplace=True)\n",
    "    piece_data.index = pd.to_datetime(piece_data.index)\n",
    "    raw_data = pd.concat([raw_data, piece_data], axis = 0)\n",
    "raw_data.head()      "
   ]
  },
  {
   "cell_type": "code",
   "execution_count": 218,
   "metadata": {},
   "outputs": [],
   "source": [
    "# raw_data = pd.read_csv('./TAXI DATA/CSVs/agr_2016.csv', sep = ',')\n",
    "# raw_data.set_index('dt', inplace=True)\n",
    "# raw_data.index = pd.to_datetime(raw_data.index)\n",
    "# raw_data.head()"
   ]
  },
  {
   "cell_type": "markdown",
   "metadata": {},
   "source": [
    "Отбор 102 регионов"
   ]
  },
  {
   "cell_type": "code",
   "execution_count": 219,
   "metadata": {},
   "outputs": [
    {
     "data": {
      "text/plain": [
       "102"
      ]
     },
     "execution_count": 219,
     "metadata": {},
     "output_type": "execute_result"
    }
   ],
   "source": [
    "data_may = raw_data.loc['2016-05-01 00:00:00':'2016-05-31 23:00:00', :]\n",
    "(data_may.mean()>5).sum()"
   ]
  },
  {
   "cell_type": "code",
   "execution_count": 220,
   "metadata": {},
   "outputs": [
    {
     "data": {
      "text/html": [
       "<div>\n",
       "<style scoped>\n",
       "    .dataframe tbody tr th:only-of-type {\n",
       "        vertical-align: middle;\n",
       "    }\n",
       "\n",
       "    .dataframe tbody tr th {\n",
       "        vertical-align: top;\n",
       "    }\n",
       "\n",
       "    .dataframe thead th {\n",
       "        text-align: right;\n",
       "    }\n",
       "</style>\n",
       "<table border=\"1\" class=\"dataframe\">\n",
       "  <thead>\n",
       "    <tr style=\"text-align: right;\">\n",
       "      <th></th>\n",
       "      <th>1076</th>\n",
       "      <th>1077</th>\n",
       "      <th>1078</th>\n",
       "      <th>1126</th>\n",
       "      <th>1127</th>\n",
       "      <th>1128</th>\n",
       "      <th>1129</th>\n",
       "      <th>1130</th>\n",
       "      <th>1131</th>\n",
       "      <th>1132</th>\n",
       "      <th>...</th>\n",
       "      <th>1631</th>\n",
       "      <th>1685</th>\n",
       "      <th>1734</th>\n",
       "      <th>1735</th>\n",
       "      <th>1784</th>\n",
       "      <th>2069</th>\n",
       "      <th>2070</th>\n",
       "      <th>2119</th>\n",
       "      <th>2120</th>\n",
       "      <th>2169</th>\n",
       "    </tr>\n",
       "    <tr>\n",
       "      <th>dt</th>\n",
       "      <th></th>\n",
       "      <th></th>\n",
       "      <th></th>\n",
       "      <th></th>\n",
       "      <th></th>\n",
       "      <th></th>\n",
       "      <th></th>\n",
       "      <th></th>\n",
       "      <th></th>\n",
       "      <th></th>\n",
       "      <th></th>\n",
       "      <th></th>\n",
       "      <th></th>\n",
       "      <th></th>\n",
       "      <th></th>\n",
       "      <th></th>\n",
       "      <th></th>\n",
       "      <th></th>\n",
       "      <th></th>\n",
       "      <th></th>\n",
       "      <th></th>\n",
       "    </tr>\n",
       "  </thead>\n",
       "  <tbody>\n",
       "    <tr>\n",
       "      <th>2015-01-01 00:00:00</th>\n",
       "      <td>102.0</td>\n",
       "      <td>115.0</td>\n",
       "      <td>60.0</td>\n",
       "      <td>103.0</td>\n",
       "      <td>305.0</td>\n",
       "      <td>479.0</td>\n",
       "      <td>499.0</td>\n",
       "      <td>716.0</td>\n",
       "      <td>987.0</td>\n",
       "      <td>324.0</td>\n",
       "      <td>...</td>\n",
       "      <td>14.0</td>\n",
       "      <td>0.0</td>\n",
       "      <td>1.0</td>\n",
       "      <td>40.0</td>\n",
       "      <td>37.0</td>\n",
       "      <td>33.0</td>\n",
       "      <td>5.0</td>\n",
       "      <td>97.0</td>\n",
       "      <td>9.0</td>\n",
       "      <td>71.0</td>\n",
       "    </tr>\n",
       "    <tr>\n",
       "      <th>2015-01-01 01:00:00</th>\n",
       "      <td>134.0</td>\n",
       "      <td>162.0</td>\n",
       "      <td>56.0</td>\n",
       "      <td>134.0</td>\n",
       "      <td>474.0</td>\n",
       "      <td>513.0</td>\n",
       "      <td>449.0</td>\n",
       "      <td>483.0</td>\n",
       "      <td>630.0</td>\n",
       "      <td>228.0</td>\n",
       "      <td>...</td>\n",
       "      <td>23.0</td>\n",
       "      <td>0.0</td>\n",
       "      <td>1.0</td>\n",
       "      <td>0.0</td>\n",
       "      <td>4.0</td>\n",
       "      <td>4.0</td>\n",
       "      <td>0.0</td>\n",
       "      <td>110.0</td>\n",
       "      <td>0.0</td>\n",
       "      <td>2.0</td>\n",
       "    </tr>\n",
       "  </tbody>\n",
       "</table>\n",
       "<p>2 rows × 102 columns</p>\n",
       "</div>"
      ],
      "text/plain": [
       "                      1076   1077  1078   1126   1127   1128   1129   1130  \\\n",
       "dt                                                                           \n",
       "2015-01-01 00:00:00  102.0  115.0  60.0  103.0  305.0  479.0  499.0  716.0   \n",
       "2015-01-01 01:00:00  134.0  162.0  56.0  134.0  474.0  513.0  449.0  483.0   \n",
       "\n",
       "                      1131   1132  ...   1631  1685  1734  1735  1784  2069  \\\n",
       "dt                                 ...                                        \n",
       "2015-01-01 00:00:00  987.0  324.0  ...   14.0   0.0   1.0  40.0  37.0  33.0   \n",
       "2015-01-01 01:00:00  630.0  228.0  ...   23.0   0.0   1.0   0.0   4.0   4.0   \n",
       "\n",
       "                     2070   2119  2120  2169  \n",
       "dt                                            \n",
       "2015-01-01 00:00:00   5.0   97.0   9.0  71.0  \n",
       "2015-01-01 01:00:00   0.0  110.0   0.0   2.0  \n",
       "\n",
       "[2 rows x 102 columns]"
      ]
     },
     "execution_count": 220,
     "metadata": {},
     "output_type": "execute_result"
    }
   ],
   "source": [
    "intresting_columns = data_may.loc[:, data_may.mean()>5].columns\n",
    "filtered_data = raw_data.loc[:, raw_data.columns.str.contains('|'.join(intresting_columns))]\n",
    "filtered_data.head(2)"
   ]
  },
  {
   "cell_type": "markdown",
   "metadata": {},
   "source": [
    "Исправим нумерацию регионов. (Нумерация сместилась где-то в первых неделях. Создало проблему при добавлении решения на kaggle)"
   ]
  },
  {
   "cell_type": "code",
   "execution_count": 221,
   "metadata": {},
   "outputs": [],
   "source": [
    "new_columns_names = [str(int(item)-1) for item in filtered_data.columns]"
   ]
  },
  {
   "cell_type": "code",
   "execution_count": 222,
   "metadata": {},
   "outputs": [
    {
     "data": {
      "text/html": [
       "<div>\n",
       "<style scoped>\n",
       "    .dataframe tbody tr th:only-of-type {\n",
       "        vertical-align: middle;\n",
       "    }\n",
       "\n",
       "    .dataframe tbody tr th {\n",
       "        vertical-align: top;\n",
       "    }\n",
       "\n",
       "    .dataframe thead th {\n",
       "        text-align: right;\n",
       "    }\n",
       "</style>\n",
       "<table border=\"1\" class=\"dataframe\">\n",
       "  <thead>\n",
       "    <tr style=\"text-align: right;\">\n",
       "      <th></th>\n",
       "      <th>1075</th>\n",
       "      <th>1076</th>\n",
       "      <th>1077</th>\n",
       "      <th>1125</th>\n",
       "      <th>1126</th>\n",
       "      <th>1127</th>\n",
       "      <th>1128</th>\n",
       "      <th>1129</th>\n",
       "      <th>1130</th>\n",
       "      <th>1131</th>\n",
       "      <th>...</th>\n",
       "      <th>1630</th>\n",
       "      <th>1684</th>\n",
       "      <th>1733</th>\n",
       "      <th>1734</th>\n",
       "      <th>1783</th>\n",
       "      <th>2068</th>\n",
       "      <th>2069</th>\n",
       "      <th>2118</th>\n",
       "      <th>2119</th>\n",
       "      <th>2168</th>\n",
       "    </tr>\n",
       "    <tr>\n",
       "      <th>dt</th>\n",
       "      <th></th>\n",
       "      <th></th>\n",
       "      <th></th>\n",
       "      <th></th>\n",
       "      <th></th>\n",
       "      <th></th>\n",
       "      <th></th>\n",
       "      <th></th>\n",
       "      <th></th>\n",
       "      <th></th>\n",
       "      <th></th>\n",
       "      <th></th>\n",
       "      <th></th>\n",
       "      <th></th>\n",
       "      <th></th>\n",
       "      <th></th>\n",
       "      <th></th>\n",
       "      <th></th>\n",
       "      <th></th>\n",
       "      <th></th>\n",
       "      <th></th>\n",
       "    </tr>\n",
       "  </thead>\n",
       "  <tbody>\n",
       "    <tr>\n",
       "      <th>2015-01-01 00:00:00</th>\n",
       "      <td>102.0</td>\n",
       "      <td>115.0</td>\n",
       "      <td>60.0</td>\n",
       "      <td>103.0</td>\n",
       "      <td>305.0</td>\n",
       "      <td>479.0</td>\n",
       "      <td>499.0</td>\n",
       "      <td>716.0</td>\n",
       "      <td>987.0</td>\n",
       "      <td>324.0</td>\n",
       "      <td>...</td>\n",
       "      <td>14.0</td>\n",
       "      <td>0.0</td>\n",
       "      <td>1.0</td>\n",
       "      <td>40.0</td>\n",
       "      <td>37.0</td>\n",
       "      <td>33.0</td>\n",
       "      <td>5.0</td>\n",
       "      <td>97.0</td>\n",
       "      <td>9.0</td>\n",
       "      <td>71.0</td>\n",
       "    </tr>\n",
       "    <tr>\n",
       "      <th>2015-01-01 01:00:00</th>\n",
       "      <td>134.0</td>\n",
       "      <td>162.0</td>\n",
       "      <td>56.0</td>\n",
       "      <td>134.0</td>\n",
       "      <td>474.0</td>\n",
       "      <td>513.0</td>\n",
       "      <td>449.0</td>\n",
       "      <td>483.0</td>\n",
       "      <td>630.0</td>\n",
       "      <td>228.0</td>\n",
       "      <td>...</td>\n",
       "      <td>23.0</td>\n",
       "      <td>0.0</td>\n",
       "      <td>1.0</td>\n",
       "      <td>0.0</td>\n",
       "      <td>4.0</td>\n",
       "      <td>4.0</td>\n",
       "      <td>0.0</td>\n",
       "      <td>110.0</td>\n",
       "      <td>0.0</td>\n",
       "      <td>2.0</td>\n",
       "    </tr>\n",
       "    <tr>\n",
       "      <th>2015-01-01 02:00:00</th>\n",
       "      <td>99.0</td>\n",
       "      <td>179.0</td>\n",
       "      <td>39.0</td>\n",
       "      <td>127.0</td>\n",
       "      <td>372.0</td>\n",
       "      <td>409.0</td>\n",
       "      <td>391.0</td>\n",
       "      <td>443.0</td>\n",
       "      <td>475.0</td>\n",
       "      <td>180.0</td>\n",
       "      <td>...</td>\n",
       "      <td>48.0</td>\n",
       "      <td>0.0</td>\n",
       "      <td>2.0</td>\n",
       "      <td>1.0</td>\n",
       "      <td>2.0</td>\n",
       "      <td>0.0</td>\n",
       "      <td>0.0</td>\n",
       "      <td>5.0</td>\n",
       "      <td>0.0</td>\n",
       "      <td>1.0</td>\n",
       "    </tr>\n",
       "    <tr>\n",
       "      <th>2015-01-01 03:00:00</th>\n",
       "      <td>80.0</td>\n",
       "      <td>116.0</td>\n",
       "      <td>19.0</td>\n",
       "      <td>79.0</td>\n",
       "      <td>325.0</td>\n",
       "      <td>461.0</td>\n",
       "      <td>315.0</td>\n",
       "      <td>415.0</td>\n",
       "      <td>335.0</td>\n",
       "      <td>159.0</td>\n",
       "      <td>...</td>\n",
       "      <td>34.0</td>\n",
       "      <td>0.0</td>\n",
       "      <td>3.0</td>\n",
       "      <td>0.0</td>\n",
       "      <td>0.0</td>\n",
       "      <td>1.0</td>\n",
       "      <td>0.0</td>\n",
       "      <td>20.0</td>\n",
       "      <td>0.0</td>\n",
       "      <td>0.0</td>\n",
       "    </tr>\n",
       "    <tr>\n",
       "      <th>2015-01-01 04:00:00</th>\n",
       "      <td>25.0</td>\n",
       "      <td>54.0</td>\n",
       "      <td>15.0</td>\n",
       "      <td>69.0</td>\n",
       "      <td>172.0</td>\n",
       "      <td>319.0</td>\n",
       "      <td>274.0</td>\n",
       "      <td>364.0</td>\n",
       "      <td>371.0</td>\n",
       "      <td>132.0</td>\n",
       "      <td>...</td>\n",
       "      <td>38.0</td>\n",
       "      <td>0.0</td>\n",
       "      <td>5.0</td>\n",
       "      <td>2.0</td>\n",
       "      <td>3.0</td>\n",
       "      <td>4.0</td>\n",
       "      <td>0.0</td>\n",
       "      <td>3.0</td>\n",
       "      <td>0.0</td>\n",
       "      <td>16.0</td>\n",
       "    </tr>\n",
       "  </tbody>\n",
       "</table>\n",
       "<p>5 rows × 102 columns</p>\n",
       "</div>"
      ],
      "text/plain": [
       "                      1075   1076  1077   1125   1126   1127   1128   1129  \\\n",
       "dt                                                                           \n",
       "2015-01-01 00:00:00  102.0  115.0  60.0  103.0  305.0  479.0  499.0  716.0   \n",
       "2015-01-01 01:00:00  134.0  162.0  56.0  134.0  474.0  513.0  449.0  483.0   \n",
       "2015-01-01 02:00:00   99.0  179.0  39.0  127.0  372.0  409.0  391.0  443.0   \n",
       "2015-01-01 03:00:00   80.0  116.0  19.0   79.0  325.0  461.0  315.0  415.0   \n",
       "2015-01-01 04:00:00   25.0   54.0  15.0   69.0  172.0  319.0  274.0  364.0   \n",
       "\n",
       "                      1130   1131  ...   1630  1684  1733  1734  1783  2068  \\\n",
       "dt                                 ...                                        \n",
       "2015-01-01 00:00:00  987.0  324.0  ...   14.0   0.0   1.0  40.0  37.0  33.0   \n",
       "2015-01-01 01:00:00  630.0  228.0  ...   23.0   0.0   1.0   0.0   4.0   4.0   \n",
       "2015-01-01 02:00:00  475.0  180.0  ...   48.0   0.0   2.0   1.0   2.0   0.0   \n",
       "2015-01-01 03:00:00  335.0  159.0  ...   34.0   0.0   3.0   0.0   0.0   1.0   \n",
       "2015-01-01 04:00:00  371.0  132.0  ...   38.0   0.0   5.0   2.0   3.0   4.0   \n",
       "\n",
       "                     2069   2118  2119  2168  \n",
       "dt                                            \n",
       "2015-01-01 00:00:00   5.0   97.0   9.0  71.0  \n",
       "2015-01-01 01:00:00   0.0  110.0   0.0   2.0  \n",
       "2015-01-01 02:00:00   0.0    5.0   0.0   1.0  \n",
       "2015-01-01 03:00:00   0.0   20.0   0.0   0.0  \n",
       "2015-01-01 04:00:00   0.0    3.0   0.0  16.0  \n",
       "\n",
       "[5 rows x 102 columns]"
      ]
     },
     "execution_count": 222,
     "metadata": {},
     "output_type": "execute_result"
    }
   ],
   "source": [
    "filtered_data.columns = new_columns_names \n",
    "filtered_data.head()"
   ]
  },
  {
   "cell_type": "markdown",
   "metadata": {},
   "source": [
    "# Добавление признаков"
   ]
  },
  {
   "cell_type": "markdown",
   "metadata": {},
   "source": [
    "**Генрация общих признаков (признаков, универсальных для любого id), использованных на прошлой неделе**"
   ]
  },
  {
   "cell_type": "code",
   "execution_count": 223,
   "metadata": {},
   "outputs": [],
   "source": [
    "data = filtered_data.copy()"
   ]
  },
  {
   "cell_type": "code",
   "execution_count": 224,
   "metadata": {},
   "outputs": [],
   "source": [
    "# месяц, день месяца, день недели, чаc\n",
    "data['year'] = data.index.year\n",
    "data['month'] = data.index.month\n",
    "data['day'] = data.index.day\n",
    "data['day of week'] = data.index.dayofweek\n",
    "data['hour'] = data.index.hour\n",
    "\n",
    "# годовые, месячные и суточные признаки Фурье\n",
    "K = 60\n",
    "year_period = 8766 #365.2424*24 - средняя продолжительность года в часах\n",
    "week_period = 168\n",
    "day_period = 24\n",
    "for i in range(1, K+1):\n",
    "    data['y_с_' + str(i)] = np.cos(np.arange(1, data.shape[0]+1)*2*np.pi*i/year_period)\n",
    "    data['y_s_' + str(i)] = np.sin(np.arange(1, data.shape[0]+1)*2*np.pi*i/year_period)\n",
    "for i in range(1, K+1):    \n",
    "    data['w_с_' + str(i)] = np.cos(np.arange(1, data.shape[0]+1)*2*np.pi*i/week_period)\n",
    "    data['w_s_' + str(i)] = np.sin(np.arange(1, data.shape[0]+1)*2*np.pi*i/week_period)\n",
    "for i in range(1, K+1):    \n",
    "    data['d_с_' + str(i)] = np.cos(np.arange(1, data.shape[0]+1)*2*np.pi*i/day_period)\n",
    "    data['d_s_' + str(i)] = np.sin(np.arange(1, data.shape[0]+1)*2*np.pi*i/day_period)   "
   ]
  },
  {
   "cell_type": "markdown",
   "metadata": {},
   "source": [
    "**Признаки из сырых данных**"
   ]
  },
  {
   "cell_type": "markdown",
   "metadata": {},
   "source": [
    "*По результатам пробных тестов за 2016 год эти признаки не улучшили решение, и в итоговом наборе их нет. Файл-генератор приложен в архиве*"
   ]
  },
  {
   "cell_type": "markdown",
   "metadata": {},
   "source": [
    "Из сырых данных за период с января по июнь 2016 были выделены следующие признаки:\n",
    "* Средняя протяженность поездок\n",
    "* Среднее число пассажиров\n",
    "* Средняя стоимость поездок\n",
    "\n",
    "Агрегированние данных было проведено в отдельном файле, он приложен к работе."
   ]
  },
  {
   "cell_type": "markdown",
   "metadata": {},
   "source": [
    "Загрузим и обработаем сырые результаты результаты"
   ]
  },
  {
   "cell_type": "code",
   "execution_count": 225,
   "metadata": {},
   "outputs": [],
   "source": [
    "def prepare_data(file_name):\n",
    "    raw_data = pd.read_csv('./TAXI DATA/CSVs/'+file_name, sep = ',')\n",
    "    raw_data.set_index('dt', inplace=True)\n",
    "    raw_data.index = pd.to_datetime(raw_data.index)\n",
    "    filtered_data = raw_data.loc[:, raw_data.columns.str.contains('|'.join(intresting_columns))]\n",
    "    filtered_data.columns = new_columns_names \n",
    "    return filtered_data"
   ]
  },
  {
   "cell_type": "code",
   "execution_count": 226,
   "metadata": {},
   "outputs": [],
   "source": [
    "mean_passenger_count = prepare_data('agr_2016_mean_passenger_count.csv')\n",
    "mean_total_amount = prepare_data('agr_2016_mean_total_amount.csv')\n",
    "mean_trip_distance = prepare_data('agr_2016_mean_trip_distance.csv')"
   ]
  },
  {
   "cell_type": "code",
   "execution_count": 227,
   "metadata": {},
   "outputs": [
    {
     "data": {
      "text/html": [
       "<div>\n",
       "<style scoped>\n",
       "    .dataframe tbody tr th:only-of-type {\n",
       "        vertical-align: middle;\n",
       "    }\n",
       "\n",
       "    .dataframe tbody tr th {\n",
       "        vertical-align: top;\n",
       "    }\n",
       "\n",
       "    .dataframe thead th {\n",
       "        text-align: right;\n",
       "    }\n",
       "</style>\n",
       "<table border=\"1\" class=\"dataframe\">\n",
       "  <thead>\n",
       "    <tr style=\"text-align: right;\">\n",
       "      <th></th>\n",
       "      <th>1075</th>\n",
       "      <th>1076</th>\n",
       "      <th>1077</th>\n",
       "      <th>1125</th>\n",
       "      <th>1126</th>\n",
       "      <th>1127</th>\n",
       "      <th>1128</th>\n",
       "      <th>1129</th>\n",
       "      <th>1130</th>\n",
       "      <th>1131</th>\n",
       "      <th>...</th>\n",
       "      <th>1630</th>\n",
       "      <th>1684</th>\n",
       "      <th>1733</th>\n",
       "      <th>1734</th>\n",
       "      <th>1783</th>\n",
       "      <th>2068</th>\n",
       "      <th>2069</th>\n",
       "      <th>2118</th>\n",
       "      <th>2119</th>\n",
       "      <th>2168</th>\n",
       "    </tr>\n",
       "    <tr>\n",
       "      <th>dt</th>\n",
       "      <th></th>\n",
       "      <th></th>\n",
       "      <th></th>\n",
       "      <th></th>\n",
       "      <th></th>\n",
       "      <th></th>\n",
       "      <th></th>\n",
       "      <th></th>\n",
       "      <th></th>\n",
       "      <th></th>\n",
       "      <th></th>\n",
       "      <th></th>\n",
       "      <th></th>\n",
       "      <th></th>\n",
       "      <th></th>\n",
       "      <th></th>\n",
       "      <th></th>\n",
       "      <th></th>\n",
       "      <th></th>\n",
       "      <th></th>\n",
       "      <th></th>\n",
       "    </tr>\n",
       "  </thead>\n",
       "  <tbody>\n",
       "    <tr>\n",
       "      <th>2016-01-01 00:00:00</th>\n",
       "      <td>2.037500</td>\n",
       "      <td>2.090278</td>\n",
       "      <td>2.020000</td>\n",
       "      <td>1.883117</td>\n",
       "      <td>1.858934</td>\n",
       "      <td>1.898010</td>\n",
       "      <td>1.847458</td>\n",
       "      <td>1.721232</td>\n",
       "      <td>1.725768</td>\n",
       "      <td>1.760300</td>\n",
       "      <td>...</td>\n",
       "      <td>1.666667</td>\n",
       "      <td>0.0</td>\n",
       "      <td>1.0</td>\n",
       "      <td>1.840909</td>\n",
       "      <td>2.6</td>\n",
       "      <td>1.292683</td>\n",
       "      <td>3.25</td>\n",
       "      <td>1.828571</td>\n",
       "      <td>1.714286</td>\n",
       "      <td>1.681818</td>\n",
       "    </tr>\n",
       "    <tr>\n",
       "      <th>2016-01-01 01:00:00</th>\n",
       "      <td>1.758242</td>\n",
       "      <td>1.853081</td>\n",
       "      <td>1.734694</td>\n",
       "      <td>1.679104</td>\n",
       "      <td>2.037129</td>\n",
       "      <td>2.016667</td>\n",
       "      <td>1.816216</td>\n",
       "      <td>1.953642</td>\n",
       "      <td>1.872054</td>\n",
       "      <td>1.852679</td>\n",
       "      <td>...</td>\n",
       "      <td>1.551724</td>\n",
       "      <td>0.0</td>\n",
       "      <td>1.0</td>\n",
       "      <td>3.500000</td>\n",
       "      <td>1.0</td>\n",
       "      <td>2.000000</td>\n",
       "      <td>0.00</td>\n",
       "      <td>1.659574</td>\n",
       "      <td>2.000000</td>\n",
       "      <td>2.206897</td>\n",
       "    </tr>\n",
       "  </tbody>\n",
       "</table>\n",
       "<p>2 rows × 102 columns</p>\n",
       "</div>"
      ],
      "text/plain": [
       "                         1075      1076      1077      1125      1126  \\\n",
       "dt                                                                      \n",
       "2016-01-01 00:00:00  2.037500  2.090278  2.020000  1.883117  1.858934   \n",
       "2016-01-01 01:00:00  1.758242  1.853081  1.734694  1.679104  2.037129   \n",
       "\n",
       "                         1127      1128      1129      1130      1131  \\\n",
       "dt                                                                      \n",
       "2016-01-01 00:00:00  1.898010  1.847458  1.721232  1.725768  1.760300   \n",
       "2016-01-01 01:00:00  2.016667  1.816216  1.953642  1.872054  1.852679   \n",
       "\n",
       "                       ...         1630  1684  1733      1734  1783      2068  \\\n",
       "dt                     ...                                                      \n",
       "2016-01-01 00:00:00    ...     1.666667   0.0   1.0  1.840909   2.6  1.292683   \n",
       "2016-01-01 01:00:00    ...     1.551724   0.0   1.0  3.500000   1.0  2.000000   \n",
       "\n",
       "                     2069      2118      2119      2168  \n",
       "dt                                                       \n",
       "2016-01-01 00:00:00  3.25  1.828571  1.714286  1.681818  \n",
       "2016-01-01 01:00:00  0.00  1.659574  2.000000  2.206897  \n",
       "\n",
       "[2 rows x 102 columns]"
      ]
     },
     "execution_count": 227,
     "metadata": {},
     "output_type": "execute_result"
    }
   ],
   "source": [
    "mean_passenger_count.head(2)"
   ]
  },
  {
   "cell_type": "code",
   "execution_count": 228,
   "metadata": {},
   "outputs": [
    {
     "data": {
      "text/html": [
       "<div>\n",
       "<style scoped>\n",
       "    .dataframe tbody tr th:only-of-type {\n",
       "        vertical-align: middle;\n",
       "    }\n",
       "\n",
       "    .dataframe tbody tr th {\n",
       "        vertical-align: top;\n",
       "    }\n",
       "\n",
       "    .dataframe thead th {\n",
       "        text-align: right;\n",
       "    }\n",
       "</style>\n",
       "<table border=\"1\" class=\"dataframe\">\n",
       "  <thead>\n",
       "    <tr style=\"text-align: right;\">\n",
       "      <th></th>\n",
       "      <th>1075</th>\n",
       "      <th>1076</th>\n",
       "      <th>1077</th>\n",
       "      <th>1125</th>\n",
       "      <th>1126</th>\n",
       "      <th>1127</th>\n",
       "      <th>1128</th>\n",
       "      <th>1129</th>\n",
       "      <th>1130</th>\n",
       "      <th>1131</th>\n",
       "      <th>...</th>\n",
       "      <th>1630</th>\n",
       "      <th>1684</th>\n",
       "      <th>1733</th>\n",
       "      <th>1734</th>\n",
       "      <th>1783</th>\n",
       "      <th>2068</th>\n",
       "      <th>2069</th>\n",
       "      <th>2118</th>\n",
       "      <th>2119</th>\n",
       "      <th>2168</th>\n",
       "    </tr>\n",
       "    <tr>\n",
       "      <th>dt</th>\n",
       "      <th></th>\n",
       "      <th></th>\n",
       "      <th></th>\n",
       "      <th></th>\n",
       "      <th></th>\n",
       "      <th></th>\n",
       "      <th></th>\n",
       "      <th></th>\n",
       "      <th></th>\n",
       "      <th></th>\n",
       "      <th></th>\n",
       "      <th></th>\n",
       "      <th></th>\n",
       "      <th></th>\n",
       "      <th></th>\n",
       "      <th></th>\n",
       "      <th></th>\n",
       "      <th></th>\n",
       "      <th></th>\n",
       "      <th></th>\n",
       "      <th></th>\n",
       "    </tr>\n",
       "  </thead>\n",
       "  <tbody>\n",
       "    <tr>\n",
       "      <th>2016-01-01 00:00:00</th>\n",
       "      <td>17.590625</td>\n",
       "      <td>18.522569</td>\n",
       "      <td>18.840600</td>\n",
       "      <td>20.781299</td>\n",
       "      <td>17.104138</td>\n",
       "      <td>16.127711</td>\n",
       "      <td>16.219228</td>\n",
       "      <td>14.962512</td>\n",
       "      <td>15.889243</td>\n",
       "      <td>17.052285</td>\n",
       "      <td>...</td>\n",
       "      <td>13.312500</td>\n",
       "      <td>0.0</td>\n",
       "      <td>9.050</td>\n",
       "      <td>32.650682</td>\n",
       "      <td>27.372</td>\n",
       "      <td>46.09122</td>\n",
       "      <td>43.76</td>\n",
       "      <td>42.606286</td>\n",
       "      <td>41.195714</td>\n",
       "      <td>47.845455</td>\n",
       "    </tr>\n",
       "    <tr>\n",
       "      <th>2016-01-01 01:00:00</th>\n",
       "      <td>21.060879</td>\n",
       "      <td>21.871469</td>\n",
       "      <td>19.050408</td>\n",
       "      <td>19.802388</td>\n",
       "      <td>19.037005</td>\n",
       "      <td>16.616310</td>\n",
       "      <td>17.025216</td>\n",
       "      <td>16.373753</td>\n",
       "      <td>16.485135</td>\n",
       "      <td>17.244554</td>\n",
       "      <td>...</td>\n",
       "      <td>13.334828</td>\n",
       "      <td>0.0</td>\n",
       "      <td>11.652</td>\n",
       "      <td>38.430000</td>\n",
       "      <td>6.300</td>\n",
       "      <td>44.86500</td>\n",
       "      <td>0.00</td>\n",
       "      <td>44.073830</td>\n",
       "      <td>63.360000</td>\n",
       "      <td>50.366552</td>\n",
       "    </tr>\n",
       "  </tbody>\n",
       "</table>\n",
       "<p>2 rows × 102 columns</p>\n",
       "</div>"
      ],
      "text/plain": [
       "                          1075       1076       1077       1125       1126  \\\n",
       "dt                                                                           \n",
       "2016-01-01 00:00:00  17.590625  18.522569  18.840600  20.781299  17.104138   \n",
       "2016-01-01 01:00:00  21.060879  21.871469  19.050408  19.802388  19.037005   \n",
       "\n",
       "                          1127       1128       1129       1130       1131  \\\n",
       "dt                                                                           \n",
       "2016-01-01 00:00:00  16.127711  16.219228  14.962512  15.889243  17.052285   \n",
       "2016-01-01 01:00:00  16.616310  17.025216  16.373753  16.485135  17.244554   \n",
       "\n",
       "                       ...           1630  1684    1733       1734    1783  \\\n",
       "dt                     ...                                                   \n",
       "2016-01-01 00:00:00    ...      13.312500   0.0   9.050  32.650682  27.372   \n",
       "2016-01-01 01:00:00    ...      13.334828   0.0  11.652  38.430000   6.300   \n",
       "\n",
       "                         2068   2069       2118       2119       2168  \n",
       "dt                                                                     \n",
       "2016-01-01 00:00:00  46.09122  43.76  42.606286  41.195714  47.845455  \n",
       "2016-01-01 01:00:00  44.86500   0.00  44.073830  63.360000  50.366552  \n",
       "\n",
       "[2 rows x 102 columns]"
      ]
     },
     "execution_count": 228,
     "metadata": {},
     "output_type": "execute_result"
    }
   ],
   "source": [
    "mean_total_amount.head(2)"
   ]
  },
  {
   "cell_type": "code",
   "execution_count": 229,
   "metadata": {
    "scrolled": true
   },
   "outputs": [
    {
     "data": {
      "text/html": [
       "<div>\n",
       "<style scoped>\n",
       "    .dataframe tbody tr th:only-of-type {\n",
       "        vertical-align: middle;\n",
       "    }\n",
       "\n",
       "    .dataframe tbody tr th {\n",
       "        vertical-align: top;\n",
       "    }\n",
       "\n",
       "    .dataframe thead th {\n",
       "        text-align: right;\n",
       "    }\n",
       "</style>\n",
       "<table border=\"1\" class=\"dataframe\">\n",
       "  <thead>\n",
       "    <tr style=\"text-align: right;\">\n",
       "      <th></th>\n",
       "      <th>1075</th>\n",
       "      <th>1076</th>\n",
       "      <th>1077</th>\n",
       "      <th>1125</th>\n",
       "      <th>1126</th>\n",
       "      <th>1127</th>\n",
       "      <th>1128</th>\n",
       "      <th>1129</th>\n",
       "      <th>1130</th>\n",
       "      <th>1131</th>\n",
       "      <th>...</th>\n",
       "      <th>1630</th>\n",
       "      <th>1684</th>\n",
       "      <th>1733</th>\n",
       "      <th>1734</th>\n",
       "      <th>1783</th>\n",
       "      <th>2068</th>\n",
       "      <th>2069</th>\n",
       "      <th>2118</th>\n",
       "      <th>2119</th>\n",
       "      <th>2168</th>\n",
       "    </tr>\n",
       "    <tr>\n",
       "      <th>dt</th>\n",
       "      <th></th>\n",
       "      <th></th>\n",
       "      <th></th>\n",
       "      <th></th>\n",
       "      <th></th>\n",
       "      <th></th>\n",
       "      <th></th>\n",
       "      <th></th>\n",
       "      <th></th>\n",
       "      <th></th>\n",
       "      <th></th>\n",
       "      <th></th>\n",
       "      <th></th>\n",
       "      <th></th>\n",
       "      <th></th>\n",
       "      <th></th>\n",
       "      <th></th>\n",
       "      <th></th>\n",
       "      <th></th>\n",
       "      <th></th>\n",
       "      <th></th>\n",
       "    </tr>\n",
       "  </thead>\n",
       "  <tbody>\n",
       "    <tr>\n",
       "      <th>2016-01-01 00:00:00</th>\n",
       "      <td>3.972625</td>\n",
       "      <td>3.933403</td>\n",
       "      <td>4.159600</td>\n",
       "      <td>4.682338</td>\n",
       "      <td>3.721411</td>\n",
       "      <td>3.219776</td>\n",
       "      <td>3.031394</td>\n",
       "      <td>2.662447</td>\n",
       "      <td>2.828593</td>\n",
       "      <td>2.836554</td>\n",
       "      <td>...</td>\n",
       "      <td>2.762500</td>\n",
       "      <td>0.0</td>\n",
       "      <td>1.375</td>\n",
       "      <td>8.420909</td>\n",
       "      <td>7.404</td>\n",
       "      <td>13.225122</td>\n",
       "      <td>11.905</td>\n",
       "      <td>12.789429</td>\n",
       "      <td>16.18</td>\n",
       "      <td>14.546212</td>\n",
       "    </tr>\n",
       "    <tr>\n",
       "      <th>2016-01-01 01:00:00</th>\n",
       "      <td>4.930330</td>\n",
       "      <td>4.865687</td>\n",
       "      <td>3.916122</td>\n",
       "      <td>4.359030</td>\n",
       "      <td>4.189703</td>\n",
       "      <td>3.341071</td>\n",
       "      <td>3.255946</td>\n",
       "      <td>2.941038</td>\n",
       "      <td>2.926128</td>\n",
       "      <td>2.954018</td>\n",
       "      <td>...</td>\n",
       "      <td>2.828276</td>\n",
       "      <td>0.0</td>\n",
       "      <td>1.934</td>\n",
       "      <td>11.370000</td>\n",
       "      <td>0.955</td>\n",
       "      <td>14.297500</td>\n",
       "      <td>0.000</td>\n",
       "      <td>13.586596</td>\n",
       "      <td>19.10</td>\n",
       "      <td>15.416207</td>\n",
       "    </tr>\n",
       "  </tbody>\n",
       "</table>\n",
       "<p>2 rows × 102 columns</p>\n",
       "</div>"
      ],
      "text/plain": [
       "                         1075      1076      1077      1125      1126  \\\n",
       "dt                                                                      \n",
       "2016-01-01 00:00:00  3.972625  3.933403  4.159600  4.682338  3.721411   \n",
       "2016-01-01 01:00:00  4.930330  4.865687  3.916122  4.359030  4.189703   \n",
       "\n",
       "                         1127      1128      1129      1130      1131  \\\n",
       "dt                                                                      \n",
       "2016-01-01 00:00:00  3.219776  3.031394  2.662447  2.828593  2.836554   \n",
       "2016-01-01 01:00:00  3.341071  3.255946  2.941038  2.926128  2.954018   \n",
       "\n",
       "                       ...          1630  1684   1733       1734   1783  \\\n",
       "dt                     ...                                                \n",
       "2016-01-01 00:00:00    ...      2.762500   0.0  1.375   8.420909  7.404   \n",
       "2016-01-01 01:00:00    ...      2.828276   0.0  1.934  11.370000  0.955   \n",
       "\n",
       "                          2068    2069       2118   2119       2168  \n",
       "dt                                                                   \n",
       "2016-01-01 00:00:00  13.225122  11.905  12.789429  16.18  14.546212  \n",
       "2016-01-01 01:00:00  14.297500   0.000  13.586596  19.10  15.416207  \n",
       "\n",
       "[2 rows x 102 columns]"
      ]
     },
     "execution_count": 229,
     "metadata": {},
     "output_type": "execute_result"
    }
   ],
   "source": [
    "mean_trip_distance.head(2)"
   ]
  },
  {
   "cell_type": "markdown",
   "metadata": {},
   "source": [
    "**Праздники**"
   ]
  },
  {
   "cell_type": "code",
   "execution_count": 230,
   "metadata": {},
   "outputs": [],
   "source": [
    "callendar = new_york.NewYork()"
   ]
  },
  {
   "cell_type": "code",
   "execution_count": 231,
   "metadata": {},
   "outputs": [],
   "source": [
    "# callendar.holidays(2015)"
   ]
  },
  {
   "cell_type": "code",
   "execution_count": 232,
   "metadata": {},
   "outputs": [],
   "source": [
    "callendar_data = pd.DataFrame(filtered_data.index)\n",
    "callendar_data['working_day'] = [int(callendar.is_working_day(x)) for x in callendar_data.dt]\n",
    "callendar_data['holiday'] = [int(callendar.is_holiday(x)) for x in callendar_data.dt]\n",
    "callendar_data.set_index('dt', inplace=True)"
   ]
  },
  {
   "cell_type": "code",
   "execution_count": 233,
   "metadata": {},
   "outputs": [
    {
     "data": {
      "text/html": [
       "<div>\n",
       "<style scoped>\n",
       "    .dataframe tbody tr th:only-of-type {\n",
       "        vertical-align: middle;\n",
       "    }\n",
       "\n",
       "    .dataframe tbody tr th {\n",
       "        vertical-align: top;\n",
       "    }\n",
       "\n",
       "    .dataframe thead th {\n",
       "        text-align: right;\n",
       "    }\n",
       "</style>\n",
       "<table border=\"1\" class=\"dataframe\">\n",
       "  <thead>\n",
       "    <tr style=\"text-align: right;\">\n",
       "      <th></th>\n",
       "      <th>working_day</th>\n",
       "      <th>holiday</th>\n",
       "    </tr>\n",
       "    <tr>\n",
       "      <th>dt</th>\n",
       "      <th></th>\n",
       "      <th></th>\n",
       "    </tr>\n",
       "  </thead>\n",
       "  <tbody>\n",
       "    <tr>\n",
       "      <th>2015-01-01 00:00:00</th>\n",
       "      <td>0</td>\n",
       "      <td>1</td>\n",
       "    </tr>\n",
       "    <tr>\n",
       "      <th>2015-01-01 01:00:00</th>\n",
       "      <td>0</td>\n",
       "      <td>1</td>\n",
       "    </tr>\n",
       "    <tr>\n",
       "      <th>2015-01-01 02:00:00</th>\n",
       "      <td>0</td>\n",
       "      <td>1</td>\n",
       "    </tr>\n",
       "    <tr>\n",
       "      <th>2015-01-01 03:00:00</th>\n",
       "      <td>0</td>\n",
       "      <td>1</td>\n",
       "    </tr>\n",
       "    <tr>\n",
       "      <th>2015-01-01 04:00:00</th>\n",
       "      <td>0</td>\n",
       "      <td>1</td>\n",
       "    </tr>\n",
       "  </tbody>\n",
       "</table>\n",
       "</div>"
      ],
      "text/plain": [
       "                     working_day  holiday\n",
       "dt                                       \n",
       "2015-01-01 00:00:00            0        1\n",
       "2015-01-01 01:00:00            0        1\n",
       "2015-01-01 02:00:00            0        1\n",
       "2015-01-01 03:00:00            0        1\n",
       "2015-01-01 04:00:00            0        1"
      ]
     },
     "execution_count": 233,
     "metadata": {},
     "output_type": "execute_result"
    }
   ],
   "source": [
    "callendar_data.head()"
   ]
  },
  {
   "cell_type": "markdown",
   "metadata": {},
   "source": [
    "**Номера кластеров (по времени)**"
   ]
  },
  {
   "cell_type": "markdown",
   "metadata": {},
   "source": [
    "Для генерации кластеров воспользуемся наработками четвертой недели. Будем использовать метод K-means и силуэтный анализ"
   ]
  },
  {
   "cell_type": "code",
   "execution_count": 234,
   "metadata": {},
   "outputs": [],
   "source": [
    "def plot_silhouette(method, data, n_clusters):\n",
    "    res = method.fit_predict(data)\n",
    "    sil = silhouette_samples(data, res)\n",
    "    silhouette_avg = silhouette_score(data, res)\n",
    "    y_lower = 10\n",
    "\n",
    "    fig, ax = plt.subplots()\n",
    "    fig.set_size_inches(10, 4)\n",
    "\n",
    "    ax.set_xlim([-0.2, 1])\n",
    "    # The (n_clusters+1)*10 is for inserting blank space between silhouette\n",
    "    # plots of individual clusters, to demarcate them clearly.\n",
    "    ax.set_ylim([0, len(data) + (n_clusters + 1) * 10])\n",
    "\n",
    "    for i in range(n_clusters):\n",
    "        # Aggregate the silhouette scores for samples belonging to\n",
    "        # cluster i, and sort them\n",
    "        ith_cluster_silhouette_values = sil[res == i]\n",
    "\n",
    "        ith_cluster_silhouette_values.sort()\n",
    "\n",
    "        size_cluster_i = ith_cluster_silhouette_values.shape[0]\n",
    "        y_upper = y_lower + size_cluster_i\n",
    "        \n",
    "        spectral_color = cm.get_cmap(\"Spectral\")\n",
    "        color = spectral_color(float(i) / n_clusters)\n",
    "        ax.fill_betweenx(np.arange(y_lower, y_upper),\n",
    "                          0, ith_cluster_silhouette_values,\n",
    "                          facecolor=color, edgecolor=color, alpha=0.7)\n",
    "\n",
    "        # Label the silhouette plots with their cluster numbers at the middle\n",
    "        ax.text(-0.05, y_lower + 0.5 * size_cluster_i, str(i))\n",
    "\n",
    "        # Compute the new y_lower for next plot\n",
    "        y_lower = y_upper + 10  # 10 for the 0 samples\n",
    "\n",
    "        ax.axvline(x=silhouette_avg, color=\"red\", linestyle=\"--\")\n",
    "    plt.show()"
   ]
  },
  {
   "cell_type": "code",
   "execution_count": 235,
   "metadata": {},
   "outputs": [],
   "source": [
    "def optimal_clusters_division(method, data, max_n_clusters, print_answer = False):\n",
    "    score_list = []\n",
    "    for n_clusters in range(2, max_n_clusters+1):\n",
    "        res = method(n_clusters = n_clusters).fit_predict(data)\n",
    "        score = silhouette_score(data, res)\n",
    "        score_list.append(score)\n",
    "    if print_answer == True:            \n",
    "        print 'Максимальный коэффициент силуэта равен {}. Достигнут при числе кластеров равном {}'\\\n",
    "        .format(max(score_list), score_list.index(max(score_list))+2)\n",
    "        return \n",
    "    return score_list   "
   ]
  },
  {
   "cell_type": "code",
   "execution_count": 236,
   "metadata": {},
   "outputs": [],
   "source": [
    "scaler = StandardScaler()\n",
    "scaled_data = pd.DataFrame(scaler.fit_transform(filtered_data), \n",
    "                       columns = filtered_data.columns, index =filtered_data.index)"
   ]
  },
  {
   "cell_type": "code",
   "execution_count": 237,
   "metadata": {},
   "outputs": [],
   "source": [
    "max_n_clusters = 10"
   ]
  },
  {
   "cell_type": "code",
   "execution_count": 238,
   "metadata": {},
   "outputs": [
    {
     "name": "stdout",
     "output_type": "stream",
     "text": [
      "Максимальный коэффициент силуэта равен 0.331818525248. Достигнут при числе кластеров равном 3\n"
     ]
    }
   ],
   "source": [
    "optimal_clusters_division(KMeans, scaled_data, max_n_clusters, True)"
   ]
  },
  {
   "cell_type": "code",
   "execution_count": 239,
   "metadata": {},
   "outputs": [
    {
     "data": {
      "text/plain": [
       "[<matplotlib.lines.Line2D at 0x1df62860>]"
      ]
     },
     "execution_count": 239,
     "metadata": {},
     "output_type": "execute_result"
    },
    {
     "data": {
      "image/png": "[encoded data removed]",
      "text/plain": [
       "<matplotlib.figure.Figure at 0x11f05a20>"
      ]
     },
     "metadata": {},
     "output_type": "display_data"
    }
   ],
   "source": [
    "plt.plot(np.arange(2, max_n_clusters+1), optimal_clusters_division(KMeans, scaled_data, max_n_clusters))"
   ]
  },
  {
   "cell_type": "code",
   "execution_count": 240,
   "metadata": {},
   "outputs": [
    {
     "data": {
      "image/png": "[encoded data removed]",
      "text/plain": [
       "<matplotlib.figure.Figure at 0x162f02b0>"
      ]
     },
     "metadata": {},
     "output_type": "display_data"
    },
    {
     "data": {
      "image/png": "[encoded data removed]",
      "text/plain": [
       "<matplotlib.figure.Figure at 0xc7f1e80>"
      ]
     },
     "metadata": {},
     "output_type": "display_data"
    },
    {
     "data": {
      "image/png": "[encoded data removed]",
      "text/plain": [
       "<matplotlib.figure.Figure at 0x9f8f0e80>"
      ]
     },
     "metadata": {},
     "output_type": "display_data"
    },
    {
     "data": {
      "image/png": "[encoded data removed]",
      "text/plain": [
       "<matplotlib.figure.Figure at 0xa2c656a0>"
      ]
     },
     "metadata": {},
     "output_type": "display_data"
    },
    {
     "data": {
      "image/png": "[encoded data removed]",
      "text/plain": [
       "<matplotlib.figure.Figure at 0xa2c7b0b8>"
      ]
     },
     "metadata": {},
     "output_type": "display_data"
    },
    {
     "data": {
      "image/png": "[encoded data removed]",
      "text/plain": [
       "<matplotlib.figure.Figure at 0xa2c59c18>"
      ]
     },
     "metadata": {},
     "output_type": "display_data"
    },
    {
     "data": {
      "image/png": "[encoded data removed]",
      "text/plain": [
       "<matplotlib.figure.Figure at 0x12ea6748>"
      ]
     },
     "metadata": {},
     "output_type": "display_data"
    },
    {
     "data": {
      "image/png": "[encoded data removed]",
      "text/plain": [
       "<matplotlib.figure.Figure at 0xa30b3240>"
      ]
     },
     "metadata": {},
     "output_type": "display_data"
    },
    {
     "data": {
      "image/png": "[encoded data removed]",
      "text/plain": [
       "<matplotlib.figure.Figure at 0x1b206550>"
      ]
     },
     "metadata": {},
     "output_type": "display_data"
    }
   ],
   "source": [
    "for n_clusters in range(2, max_n_clusters+1):\n",
    "    plot_silhouette(KMeans(n_clusters=n_clusters), scaled_data.T, n_clusters)"
   ]
  },
  {
   "cell_type": "markdown",
   "metadata": {},
   "source": [
    "Выбираем разбиение на 8 кластеров"
   ]
  },
  {
   "cell_type": "code",
   "execution_count": 241,
   "metadata": {},
   "outputs": [
    {
     "data": {
      "text/plain": [
       "(array([0, 1, 2, 3, 4, 5, 6, 7]),\n",
       " array([1356, 1583, 2566, 3015,  520,  922, 1135, 2031], dtype=int64))"
      ]
     },
     "execution_count": 241,
     "metadata": {},
     "output_type": "execute_result"
    }
   ],
   "source": [
    "cluster_model = KMeans(n_clusters = 8, random_state = 42)\n",
    "res = cluster_model.fit_predict(filtered_data)\n",
    "np.unique(res, return_counts = True)"
   ]
  },
  {
   "cell_type": "code",
   "execution_count": 242,
   "metadata": {},
   "outputs": [],
   "source": [
    "cluster_numbers_data = pd.DataFrame(filtered_data.index)\n",
    "cluster_numbers_data.set_index('dt', inplace=True)\n",
    "cluster_numbers_data['label'] = res"
   ]
  },
  {
   "cell_type": "code",
   "execution_count": 243,
   "metadata": {},
   "outputs": [
    {
     "data": {
      "text/html": [
       "<div>\n",
       "<style scoped>\n",
       "    .dataframe tbody tr th:only-of-type {\n",
       "        vertical-align: middle;\n",
       "    }\n",
       "\n",
       "    .dataframe tbody tr th {\n",
       "        vertical-align: top;\n",
       "    }\n",
       "\n",
       "    .dataframe thead th {\n",
       "        text-align: right;\n",
       "    }\n",
       "</style>\n",
       "<table border=\"1\" class=\"dataframe\">\n",
       "  <thead>\n",
       "    <tr style=\"text-align: right;\">\n",
       "      <th></th>\n",
       "      <th>label</th>\n",
       "    </tr>\n",
       "    <tr>\n",
       "      <th>dt</th>\n",
       "      <th></th>\n",
       "    </tr>\n",
       "  </thead>\n",
       "  <tbody>\n",
       "    <tr>\n",
       "      <th>2015-01-01 00:00:00</th>\n",
       "      <td>5</td>\n",
       "    </tr>\n",
       "    <tr>\n",
       "      <th>2015-01-01 01:00:00</th>\n",
       "      <td>6</td>\n",
       "    </tr>\n",
       "    <tr>\n",
       "      <th>2015-01-01 02:00:00</th>\n",
       "      <td>6</td>\n",
       "    </tr>\n",
       "    <tr>\n",
       "      <th>2015-01-01 03:00:00</th>\n",
       "      <td>5</td>\n",
       "    </tr>\n",
       "    <tr>\n",
       "      <th>2015-01-01 04:00:00</th>\n",
       "      <td>0</td>\n",
       "    </tr>\n",
       "  </tbody>\n",
       "</table>\n",
       "</div>"
      ],
      "text/plain": [
       "                     label\n",
       "dt                        \n",
       "2015-01-01 00:00:00      5\n",
       "2015-01-01 01:00:00      6\n",
       "2015-01-01 02:00:00      6\n",
       "2015-01-01 03:00:00      5\n",
       "2015-01-01 04:00:00      0"
      ]
     },
     "execution_count": 243,
     "metadata": {},
     "output_type": "execute_result"
    }
   ],
   "source": [
    "cluster_numbers_data.head()"
   ]
  },
  {
   "cell_type": "code",
   "execution_count": 244,
   "metadata": {},
   "outputs": [],
   "source": [
    "# cluster_numbers_data.to_csv('cluster_labels_feature.csv')"
   ]
  },
  {
   "cell_type": "markdown",
   "metadata": {},
   "source": [
    "# Оценка набора признаков, подбор модели"
   ]
  },
  {
   "cell_type": "markdown",
   "metadata": {},
   "source": [
    "При подготовке расчеты были проведены эксперименты по отбору признаков с помощью кластеризации рядов, PCA и дальнейшим решетчатым поиском среди Lasso, Ridge и ElasticNet Regression, RandomForestRegression, ExtremeForestRegression, AdaBoost, XGBoost. Однако, PCA отбор не оправдал надежды - он ускорил вычисления, но ошибка Q_may возвросла до 22.\n",
    "Из-за негативных результатов, данные выкладки в расчет не включены.\n",
    "\n",
    "В итоге было принято решение отказаться от PCA и ограничиться решетчатым поиском для Ridge Regression, показавшего себя как наиболее результативный алгоритм среди линейных аналогов."
   ]
  },
  {
   "cell_type": "markdown",
   "metadata": {},
   "source": [
    "**Создадим датафреймы с полным набором признаков**"
   ]
  },
  {
   "cell_type": "code",
   "execution_count": 245,
   "metadata": {},
   "outputs": [],
   "source": [
    "# data.head()"
   ]
  },
  {
   "cell_type": "code",
   "execution_count": 246,
   "metadata": {},
   "outputs": [
    {
     "name": "stdout",
     "output_type": "stream",
     "text": [
      "1075 1076 1077 1125 1126 1127 1128 1129 1130 1131 1132 1172 1173 1174 1175 1176 1177 1178 1179 1180 1181 1182 1183 1184 1221 1222 1223 1224 1225 1227 1228 1229 1230 1231 1232 1233 1234 1235 1272 1273 1274 1278 1279 1280 1281 1282 1283 1284 1285 1286 1287 1326 1327 1331 1332 1333 1334 1335 1336 1337 1338 1339 1376 1377 1378 1380 1382 1383 1384 1385 1386 1387 1388 1389 1390 1426 1431 1434 1435 1436 1437 1438 1439 1441 1442 1480 1482 1483 1530 1532 1533 1580 1630 1684 1733 1734 1783 2068 2069 2118 2119 2168Wall time: 10min 8s\n",
      "\n"
     ]
    }
   ],
   "source": [
    "%%time\n",
    "\n",
    "import warnings\n",
    "warnings.filterwarnings('ignore')\n",
    "\n",
    "# Дополним фрейм с общими признаками\n",
    "data = pd.concat([data, cluster_numbers_data, callendar_data], axis = 1)\n",
    "\n",
    "linear_models_dict = {}\n",
    "\n",
    "X_val_dict = {}\n",
    "y_val_dict = {}\n",
    "y_val_pred_dict = {}\n",
    "\n",
    "X_test_dict = {}\n",
    "y_test_dict = {}\n",
    "y_test_pred_dict = {}\n",
    "\n",
    "for id_name in filtered_data.columns:\n",
    "    print id_name,\n",
    "    drop_list = list(filtered_data.columns)\n",
    "    drop_list.remove(str(id_name))\n",
    "    named_data = data.copy().drop(drop_list, axis = 1) #Избавляемся от лишних id на итерации\n",
    "    \n",
    "    #Добавляем shift признаки\n",
    "    named_data['shift_1'] = named_data[str(id_name)].shift(1)\n",
    "    named_data['shift_2'] = named_data[str(id_name)].shift(2)\n",
    "    named_data['shift_3'] = named_data[str(id_name)].shift(3)\n",
    "    named_data['shift_4'] = named_data[str(id_name)].shift(4)\n",
    "    named_data['shift_5'] = named_data[str(id_name)].shift(5)\n",
    "    named_data['shift_6'] = named_data[str(id_name)].shift(6)\n",
    "    \n",
    "    named_data['shift_7'] = named_data[str(id_name)].shift(7)\n",
    "    named_data['shift_8'] = named_data[str(id_name)].shift(8)\n",
    "    named_data['shift_9'] = named_data[str(id_name)].shift(9)\n",
    "    named_data['shift_10'] = named_data[str(id_name)].shift(10)\n",
    "    named_data['shift_11'] = named_data[str(id_name)].shift(11) \n",
    "    named_data['shift_12'] = named_data[str(id_name)].shift(12)   \n",
    "        \n",
    "    \n",
    "    named_data['shift_24'] = named_data[str(id_name)].shift(24)\n",
    "    named_data['shift_48'] = named_data[str(id_name)].shift(48)\n",
    "    \n",
    "    named_data = named_data.iloc[48:]\n",
    "    \n",
    "    # Разбиение данных\n",
    "    predict_may_start = '2016-04-30 23:00'\n",
    "    predict_may_stop = '2016-05-31 23:00'\n",
    "    precit_june_stop = '2016-06-30 23:00' # df и так заканчивается этим числом\n",
    "    \n",
    "    X_train = named_data.loc[:predict_may_start].drop(str(id_name), axis = 1)\n",
    "    y_train = named_data.loc[:predict_may_start][str(id_name)]\n",
    "    \n",
    "    X_val = named_data.loc[predict_may_start:predict_may_stop].drop(str(id_name), axis = 1)\n",
    "    y_val = named_data.loc[predict_may_start:predict_may_stop][str(id_name)]\n",
    "    \n",
    "    X_test = named_data.loc[predict_may_stop:].drop(str(id_name), axis = 1)\n",
    "    y_test = named_data.loc[predict_may_stop:][str(id_name)]\n",
    "    \n",
    "    #Строим Ridge модель с подбором гиперпараметра\n",
    "    model = linear_model.Ridge()\n",
    "    param_grid = [{'alpha' : np.logspace(1, 3, 10)}]\n",
    "    clf = GridSearchCV(model, param_grid, cv = 5)\n",
    "    best_model = clf.fit(X_train, y_train)\n",
    "    \n",
    "    # Сохраним результаты разбиения данных, моделей и их прогнозы по словарям. Ключлм будет являться id региона\n",
    "    linear_models_dict[id_name] = best_model\n",
    "    X_val_dict[id_name] = X_val\n",
    "    y_val_dict[id_name] = y_val\n",
    "    y_val_pred_dict[id_name] = best_model.predict(X_val)\n",
    "    X_test_dict[id_name] = X_test\n",
    "    y_test_dict[id_name] = y_test\n",
    "    y_test_pred_dict[id_name] = best_model.predict(X_test)\n"
   ]
  },
  {
   "cell_type": "markdown",
   "metadata": {},
   "source": [
    "**Анализ Q_may**"
   ]
  },
  {
   "cell_type": "code",
   "execution_count": 247,
   "metadata": {},
   "outputs": [],
   "source": [
    "may_time_range = pd.date_range('2016-04-30 23:00', '2016-05-31 17:00', freq = 'H')"
   ]
  },
  {
   "cell_type": "code",
   "execution_count": 248,
   "metadata": {},
   "outputs": [
    {
     "name": "stdout",
     "output_type": "stream",
     "text": [
      "1075 1076 1077 1125 1126 1127 1128 1129 1130 1131 1132 1172 1173 1174 1175 1176 1177 1178 1179 1180 1181 1182 1183 1184 1221 1222 1223 1224 1225 1227 1228 1229 1230 1231 1232 1233 1234 1235 1272 1273 1274 1278 1279 1280 1281 1282 1283 1284 1285 1286 1287 1326 1327 1331 1332 1333 1334 1335 1336 1337 1338 1339 1376 1377 1378 1380 1382 1383 1384 1385 1386 1387 1388 1389 1390 1426 1431 1434 1435 1436 1437 1438 1439 1441 1442 1480 1482 1483 1530 1532 1533 1580 1630 1684 1733 1734 1783 2068 2069 2118 2119 2168\n",
      "Q_may:  14.7090939761\n",
      "Wall time: 3min 56s\n"
     ]
    }
   ],
   "source": [
    "%%time\n",
    "Q_may_f = 0\n",
    "for key in filtered_data.columns:\n",
    "    print key,\n",
    "    for date in may_time_range:\n",
    "        for step in range(1, 7):\n",
    "            # создадим вспомогательный df для прогноза, чтобы использовать индексы от оригинального df\n",
    "            forecast = pd.DataFrame(y_val_pred_dict.get(str(key)), index = y_val_dict.get(str(key)).index, columns = ['val'])\n",
    "            real_values = y_val_dict.get(str(key))\n",
    "            Q_may_f+= np.abs(forecast.loc[date + timedelta(hours = step)] - real_values.loc[date + timedelta(hours = step)])\n",
    "Q_may = float(Q_may_f/(102*739*6))\n",
    "print \n",
    "print 'Q_may: ', Q_may"
   ]
  },
  {
   "cell_type": "markdown",
   "metadata": {},
   "source": [
    "Стало лучше"
   ]
  },
  {
   "cell_type": "markdown",
   "metadata": {},
   "source": [
    "**Анализ Q_june**"
   ]
  },
  {
   "cell_type": "code",
   "execution_count": 249,
   "metadata": {},
   "outputs": [],
   "source": [
    "june_time_range = pd.date_range('2016-05-31 23:00', '2016-06-30 17:00', freq = 'H')"
   ]
  },
  {
   "cell_type": "code",
   "execution_count": 250,
   "metadata": {},
   "outputs": [
    {
     "name": "stdout",
     "output_type": "stream",
     "text": [
      "1075 1076 1077 1125 1126 1127 1128 1129 1130 1131 1132 1172 1173 1174 1175 1176 1177 1178 1179 1180 1181 1182 1183 1184 1221 1222 1223 1224 1225 1227 1228 1229 1230 1231 1232 1233 1234 1235 1272 1273 1274 1278 1279 1280 1281 1282 1283 1284 1285 1286 1287 1326 1327 1331 1332 1333 1334 1335 1336 1337 1338 1339 1376 1377 1378 1380 1382 1383 1384 1385 1386 1387 1388 1389 1390 1426 1431 1434 1435 1436 1437 1438 1439 1441 1442 1480 1482 1483 1530 1532 1533 1580 1630 1684 1733 1734 1783 2068 2069 2118 2119 2168Wall time: 4min 39s\n",
      "\n"
     ]
    }
   ],
   "source": [
    "%%time\n",
    "Q_june_f = 0\n",
    "title_list = []\n",
    "prediction_list = []\n",
    "for key in filtered_data.columns:\n",
    "    print key,\n",
    "    for date in june_time_range:\n",
    "        for step in range(1, 7):\n",
    "            # создадим вспомогательный df для прогноза, чтобы использовать индексы от оригинального df\n",
    "            forecast = pd.DataFrame(y_test_pred_dict.get(str(key)), index = y_test_dict.get(str(key)).index, columns = ['val'])\n",
    "            real_values = y_test_dict.get(str(key))\n",
    "#             print forecast\n",
    "#             print float(forecast.loc[date + timedelta(hours = step)])            \n",
    "                \n",
    "            prediction_list.append(float(forecast.loc[date + timedelta(hours = step)]))\n",
    "            title_list.append(str(key) + '_' + str(date)[:10]+ '_' + str(date.hour) + '_' + str(step))  \n",
    "            \n",
    "            Q_june_f+= np.abs(forecast.loc[date + timedelta(hours = step)] - real_values.loc[date + timedelta(hours = step)])\n",
    "Q_june = float(Q_june_f/(102*739*6))"
   ]
  },
  {
   "cell_type": "code",
   "execution_count": 251,
   "metadata": {},
   "outputs": [
    {
     "name": "stdout",
     "output_type": "stream",
     "text": [
      "(437580, 1)\n"
     ]
    },
    {
     "data": {
      "text/html": [
       "<div>\n",
       "<style scoped>\n",
       "    .dataframe tbody tr th:only-of-type {\n",
       "        vertical-align: middle;\n",
       "    }\n",
       "\n",
       "    .dataframe tbody tr th {\n",
       "        vertical-align: top;\n",
       "    }\n",
       "\n",
       "    .dataframe thead th {\n",
       "        text-align: right;\n",
       "    }\n",
       "</style>\n",
       "<table border=\"1\" class=\"dataframe\">\n",
       "  <thead>\n",
       "    <tr style=\"text-align: right;\">\n",
       "      <th></th>\n",
       "      <th>y</th>\n",
       "    </tr>\n",
       "    <tr>\n",
       "      <th>id</th>\n",
       "      <th></th>\n",
       "    </tr>\n",
       "  </thead>\n",
       "  <tbody>\n",
       "    <tr>\n",
       "      <th>1075_2016-05-31_23_1</th>\n",
       "      <td>20.936655</td>\n",
       "    </tr>\n",
       "    <tr>\n",
       "      <th>1075_2016-05-31_23_2</th>\n",
       "      <td>14.106473</td>\n",
       "    </tr>\n",
       "    <tr>\n",
       "      <th>1075_2016-05-31_23_3</th>\n",
       "      <td>6.242544</td>\n",
       "    </tr>\n",
       "    <tr>\n",
       "      <th>1075_2016-05-31_23_4</th>\n",
       "      <td>2.447858</td>\n",
       "    </tr>\n",
       "    <tr>\n",
       "      <th>1075_2016-05-31_23_5</th>\n",
       "      <td>5.288216</td>\n",
       "    </tr>\n",
       "  </tbody>\n",
       "</table>\n",
       "</div>"
      ],
      "text/plain": [
       "                              y\n",
       "id                             \n",
       "1075_2016-05-31_23_1  20.936655\n",
       "1075_2016-05-31_23_2  14.106473\n",
       "1075_2016-05-31_23_3   6.242544\n",
       "1075_2016-05-31_23_4   2.447858\n",
       "1075_2016-05-31_23_5   5.288216"
      ]
     },
     "execution_count": 251,
     "metadata": {},
     "output_type": "execute_result"
    }
   ],
   "source": [
    "kaggle_week6_df = pd.DataFrame(prediction_list, index = title_list, columns = ['y'])\n",
    "kaggle_week6_df.index.name = 'id'\n",
    "print kaggle_week6_df.shape\n",
    "kaggle_week6_df.head()"
   ]
  },
  {
   "cell_type": "code",
   "execution_count": 175,
   "metadata": {},
   "outputs": [],
   "source": [
    "# kaggle_week6_df.to_csv('kaggle_df_week6.csv')"
   ]
  },
  {
   "cell_type": "markdown",
   "metadata": {},
   "source": [
    "Ссылка:https://inclass.kaggle.com/c/yellowtaxi/leaderboard"
   ]
  },
  {
   "cell_type": "code",
   "execution_count": null,
   "metadata": {},
   "outputs": [],
   "source": []
  }
 ],
 "metadata": {
  "kernelspec": {
   "display_name": "Python 2",
   "language": "python",
   "name": "python2"
  },
  "language_info": {
   "codemirror_mode": {
    "name": "ipython",
    "version": 2
   },
   "file_extension": ".py",
   "mimetype": "text/x-python",
   "name": "python",
   "nbconvert_exporter": "python",
   "pygments_lexer": "ipython2",
   "version": "2.7.15"
  }
 },
 "nbformat": 4,
 "nbformat_minor": 2
}
