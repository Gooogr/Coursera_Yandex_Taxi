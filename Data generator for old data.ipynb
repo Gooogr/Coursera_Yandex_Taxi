{
 "cells": [
  {
   "cell_type": "code",
   "execution_count": 12,
   "metadata": {},
   "outputs": [],
   "source": [
    "import pandas as pd\n",
    "import seaborn as sns\n",
    "import numpy as np\n",
    "import matplotlib.pyplot as plt\n",
    "from datetime import date, datetime, timedelta\n",
    "import calendar\n",
    "import time\n",
    "from scipy.stats import binned_statistic_2d\n",
    "import glob"
   ]
  },
  {
   "cell_type": "code",
   "execution_count": 13,
   "metadata": {},
   "outputs": [],
   "source": [
    "# column_names = ['VendorID', 'pickup_datetime', 'dropoff_datetime', 'passenger_count', 'trip_distance', 'pickup_longitude',\n",
    "#                 'pickup_latitude', 'RatecodeID', 'store_and_fwd_flag', 'dropoff_longitude', 'dropoff_latitude', 'payment_type',\n",
    "#                  'fare_amount', 'extra', 'mta_tax', 'tip_amount', 'tolls_amount', 'improvement_surcharge', 'total_amount']"
   ]
  },
  {
   "cell_type": "code",
   "execution_count": 14,
   "metadata": {},
   "outputs": [],
   "source": [
    "regions = pd.read_csv('./TAXI DATA/regions.csv', sep=';')\n",
    "binx = np.sort(pd.concat([regions['south'],regions['north']]).unique())\n",
    "biny = np.sort(pd.concat([regions['west'],regions['east']]).unique())"
   ]
  },
  {
   "cell_type": "markdown",
   "metadata": {},
   "source": [
    "Вспомогательные функции агрегации"
   ]
  },
  {
   "cell_type": "code",
   "execution_count": 15,
   "metadata": {},
   "outputs": [],
   "source": [
    "def datetime_to_int(dt):\n",
    "    '''\n",
    "    Функция преобразует дату к числовому виду yyyymmddhh для дальнейшего использования при агрегации \n",
    "    '''\n",
    "    return 1e6*dt.year + 1e4*dt.month + 1e2*dt.day+dt.hour"
   ]
  },
  {
   "cell_type": "code",
   "execution_count": 16,
   "metadata": {},
   "outputs": [],
   "source": [
    "def get_time_range(year,month,adddays,addhours):\n",
    "    '''\n",
    "    Функция формирует перечень дат в числовом виде yyyymmddhh за период с первое по последнее число \n",
    "    месяца month в году year с шагом 1 час\n",
    "    '''\n",
    "    def perdelta(start, end, delta):\n",
    "        curr = start\n",
    "        while curr < end:\n",
    "            yield curr\n",
    "            curr += delta\n",
    "    last_day= datetime(year,month,calendar.monthrange(year,month)[1])+timedelta(days=adddays,hours=addhours)\n",
    "    datetime_range=[]  \n",
    "    for result in perdelta(datetime(year, month, 1), last_day, timedelta(hours=1)):\n",
    "        datetime_range.append(datetime_to_int(result))\n",
    "    return datetime_range    "
   ]
  },
  {
   "cell_type": "markdown",
   "metadata": {},
   "source": [
    "Подготовка данных"
   ]
  },
  {
   "cell_type": "code",
   "execution_count": 17,
   "metadata": {},
   "outputs": [],
   "source": [
    "def altered_data(data):\n",
    "    data.columns = column_names\n",
    "    \n",
    "    # фильтрация значений\n",
    "    filter1 = data['dropoff_datetime'] > data['pickup_datetime']\n",
    "    filter2 = data['passenger_count'] > 0\n",
    "    filter3 = data['trip_distance'] > 0\n",
    "    filter4 = (data['pickup_longitude'] >= -74.25559) & (data['pickup_longitude'] <= -73.70001)\n",
    "    filter5 = (data['pickup_latitude'] >= 40.49612) & (data['pickup_latitude'] <= 40.91553)\n",
    "    filtered_data = data[filter1 & filter2 & filter3 & filter4 & filter5]\n",
    "    \n",
    "    # преобразование столбцов\n",
    "    filtered_data.pickup_datetime = pd.to_datetime(filtered_data.pickup_datetime)\n",
    "    filtered_data.dropoff_datetime = pd.to_datetime(filtered_data.dropoff_datetime)\n",
    "    \n",
    "    # добавление признаков\n",
    "    agg_id_zones = binned_statistic_2d(x = filtered_data['pickup_latitude'].values, \n",
    "                                       y = filtered_data['pickup_longitude'].values, \n",
    "                                       values = None, statistic = 'count', \n",
    "                                       bins = [binx, biny], expand_binnumbers = True)\n",
    "    filtered_data['id_zone'] = 50*(agg_id_zones.binnumber[1, :] - 1) + agg_id_zones.binnumber[0, :]\n",
    "    filtered_data['int_pickup_data'] = filtered_data.pickup_datetime.apply(datetime_to_int)\n",
    "    \n",
    "    return filtered_data"
   ]
  },
  {
   "cell_type": "markdown",
   "metadata": {},
   "source": [
    "Агрегирование данных"
   ]
  },
  {
   "cell_type": "code",
   "execution_count": 18,
   "metadata": {},
   "outputs": [],
   "source": [
    "def get_agr_data(data, year, month):\n",
    "    binx = get_time_range(int(year),int(month),1,1)\n",
    "    biny = np.arange(0, 2501)\n",
    "    res = binned_statistic_2d(data.int_pickup_data, data.id_zone,\n",
    "                                   None, 'count',\n",
    "                                   bins = [binx, biny])\n",
    "    df = pd.DataFrame(res.statistic, index = get_time_range(int(year),int(month),1,0), columns = np.arange(1, 2501))\n",
    "    df.index = df.index.map(int)\n",
    "    df.index=df.index.map(lambda x:datetime.strptime(str(x), \"%Y%m%d%H\"))\n",
    "    df.index.names = ['dt']\n",
    "    return df"
   ]
  },
  {
   "cell_type": "code",
   "execution_count": 19,
   "metadata": {},
   "outputs": [],
   "source": [
    "def get_special_agr_data(data, year, month, feature_name):\n",
    "    binx = get_time_range(int(year),int(month),1,1)\n",
    "    biny = np.arange(0, 2501)\n",
    "    res = binned_statistic_2d(data.int_pickup_data, data.id_zone,\n",
    "                                   data[feature_name], 'mean',\n",
    "                                   bins = [binx, biny])\n",
    "    df = pd.DataFrame(np.nan_to_num(res.statistic), index = get_time_range(int(year),int(month),1,0), \n",
    "                      columns = np.arange(1, 2501))\n",
    "    df.index = df.index.map(int)\n",
    "    df.index=df.index.map(lambda x:datetime.strptime(str(x), \"%Y%m%d%H\"))\n",
    "    df.index.names = ['dt']\n",
    "    return df"
   ]
  },
  {
   "cell_type": "markdown",
   "metadata": {},
   "source": [
    "Сборка общего датафрейма"
   ]
  },
  {
   "cell_type": "code",
   "execution_count": 20,
   "metadata": {},
   "outputs": [],
   "source": [
    "year_list = ['2014']\n",
    "month_list = ['01','02','03','04','05','06', '07', '08', '09', '10', '11', '12']"
   ]
  },
  {
   "cell_type": "markdown",
   "metadata": {},
   "source": [
    "Проведем агрегирование основных данных - плотности поездок по времени и id зон. Это то, что делалось на первой неделе."
   ]
  },
  {
   "cell_type": "code",
   "execution_count": 21,
   "metadata": {},
   "outputs": [],
   "source": [
    "column_names = ['VendorID', 'pickup_datetime', 'dropoff_datetime', 'passenger_count', 'trip_distance', 'pickup_longitude',\n",
    "                'pickup_latitude', 'RatecodeID', 'store_and_fwd_flag', 'dropoff_longitude', 'dropoff_latitude']\n",
    "# 'payment_type',\n",
    "#                  'fare_amount', 'extra', 'mta_tax', 'tip_amount', 'tolls_amount', 'improvement_surcharge', 'total_amount']"
   ]
  },
  {
   "cell_type": "code",
   "execution_count": 24,
   "metadata": {},
   "outputs": [
    {
     "name": "stdout",
     "output_type": "stream",
     "text": [
      "\n"
     ]
    }
   ],
   "source": [
    "def calculate_df(year_list, month_list,):\n",
    "    df = pd.DataFrame()\n",
    "    for year in year_list:\n",
    "        print year\n",
    "        for month in month_list:\n",
    "            print month,\n",
    "            data = pd.read_csv('./TAXI DATA/'+year+'/yellow_tripdata_'+year+'-'+month+'.csv')\n",
    "            data = data.iloc[:, :11]\n",
    "            alt_data = altered_data(data)\n",
    "            agr_data = get_agr_data(alt_data, year, month)\n",
    "            df = pd.concat([df, agr_data])\n",
    "    return df                    "
   ]
  },
  {
   "cell_type": "code",
   "execution_count": 25,
   "metadata": {},
   "outputs": [
    {
     "name": "stdout",
     "output_type": "stream",
     "text": [
      "2014\n",
      "01"
     ]
    },
    {
     "name": "stderr",
     "output_type": "stream",
     "text": [
      "C:\\Users\\GusarovPC\\AppData\\Local\\conda\\conda\\envs\\taxi3\\lib\\site-packages\\pandas\\core\\generic.py:4405: SettingWithCopyWarning: \n",
      "A value is trying to be set on a copy of a slice from a DataFrame.\n",
      "Try using .loc[row_indexer,col_indexer] = value instead\n",
      "\n",
      "See the caveats in the documentation: http://pandas.pydata.org/pandas-docs/stable/indexing.html#indexing-view-versus-copy\n",
      "  self[name] = value\n",
      "C:\\Users\\GusarovPC\\AppData\\Local\\conda\\conda\\envs\\taxi3\\lib\\site-packages\\scipy\\stats\\_binned_statistic.py:607: FutureWarning: Using a non-tuple sequence for multidimensional indexing is deprecated; use `arr[tuple(seq)]` instead of `arr[seq]`. In the future this will be interpreted as an array index, `arr[np.array(seq)]`, which will result either in an error or a different result.\n",
      "  result = result[core]\n",
      "C:\\Users\\GusarovPC\\AppData\\Local\\conda\\conda\\envs\\taxi3\\lib\\site-packages\\ipykernel_launcher.py:21: SettingWithCopyWarning: \n",
      "A value is trying to be set on a copy of a slice from a DataFrame.\n",
      "Try using .loc[row_indexer,col_indexer] = value instead\n",
      "\n",
      "See the caveats in the documentation: http://pandas.pydata.org/pandas-docs/stable/indexing.html#indexing-view-versus-copy\n",
      "C:\\Users\\GusarovPC\\AppData\\Local\\conda\\conda\\envs\\taxi3\\lib\\site-packages\\ipykernel_launcher.py:22: SettingWithCopyWarning: \n",
      "A value is trying to be set on a copy of a slice from a DataFrame.\n",
      "Try using .loc[row_indexer,col_indexer] = value instead\n",
      "\n",
      "See the caveats in the documentation: http://pandas.pydata.org/pandas-docs/stable/indexing.html#indexing-view-versus-copy\n"
     ]
    },
    {
     "name": "stdout",
     "output_type": "stream",
     "text": [
      " 02"
     ]
    },
    {
     "name": "stderr",
     "output_type": "stream",
     "text": [
      "C:\\Users\\GusarovPC\\AppData\\Local\\conda\\conda\\envs\\taxi3\\lib\\site-packages\\IPython\\core\\interactiveshell.py:2818: DtypeWarning: Columns (8) have mixed types. Specify dtype option on import or set low_memory=False.\n",
      "  if self.run_code(code, result):\n"
     ]
    },
    {
     "name": "stdout",
     "output_type": "stream",
     "text": [
      " 03 04 05 06 07 08 09 10 11 12 (8760, 2500)\n"
     ]
    }
   ],
   "source": [
    "full_df = calculate_df(year_list, month_list)\n",
    "print full_df.shape\n",
    "full_df.to_csv('./TAXI DATA/CSVs/agr_2014.csv')"
   ]
  },
  {
   "cell_type": "markdown",
   "metadata": {},
   "source": [
    "Далее вычленим новые признаки из сырых данных:\n",
    "* Средняя протяженность поездок\n",
    "* Среднее число пассажиров\n",
    "* Средняя стоимость поездок"
   ]
  },
  {
   "cell_type": "code",
   "execution_count": 12,
   "metadata": {},
   "outputs": [],
   "source": [
    "def write_special_df(year_list, month_list, feature_name):\n",
    "    df = pd.DataFrame()\n",
    "    for year in year_list:\n",
    "        print year\n",
    "        for month in month_list:\n",
    "            print month,\n",
    "            data = pd.read_csv('./TAXI DATA/'+year+'/yellow_tripdata_'+year+'-'+month+'.csv')\n",
    "            alt_data = altered_data(data)\n",
    "            agr_data = get_special_agr_data(alt_data, year, month, feature_name)\n",
    "            df = pd.concat([df, agr_data])\n",
    "    df.to_csv('./TAXI DATA/CSVs/agr_2016_mean_'+str(feature_name)+'.csv')\n",
    "    print "
   ]
  },
  {
   "cell_type": "code",
   "execution_count": 13,
   "metadata": {},
   "outputs": [],
   "source": [
    "feature_list_names = ['trip_distance', 'passenger_count', 'total_amount']"
   ]
  },
  {
   "cell_type": "code",
   "execution_count": 16,
   "metadata": {},
   "outputs": [
    {
     "name": "stdout",
     "output_type": "stream",
     "text": [
      "trip_distance\n",
      "2016\n",
      "01"
     ]
    },
    {
     "name": "stderr",
     "output_type": "stream",
     "text": [
      "C:\\Users\\GusarovPC\\AppData\\Local\\conda\\conda\\envs\\taxi3\\lib\\site-packages\\ipykernel_launcher.py:21: SettingWithCopyWarning: \n",
      "A value is trying to be set on a copy of a slice from a DataFrame.\n",
      "Try using .loc[row_indexer,col_indexer] = value instead\n",
      "\n",
      "See the caveats in the documentation: http://pandas.pydata.org/pandas-docs/stable/indexing.html#indexing-view-versus-copy\n",
      "C:\\Users\\GusarovPC\\AppData\\Local\\conda\\conda\\envs\\taxi3\\lib\\site-packages\\ipykernel_launcher.py:22: SettingWithCopyWarning: \n",
      "A value is trying to be set on a copy of a slice from a DataFrame.\n",
      "Try using .loc[row_indexer,col_indexer] = value instead\n",
      "\n",
      "See the caveats in the documentation: http://pandas.pydata.org/pandas-docs/stable/indexing.html#indexing-view-versus-copy\n"
     ]
    },
    {
     "name": "stdout",
     "output_type": "stream",
     "text": [
      " 02 03 04 05 06\n",
      "passenger_count\n",
      "2016\n",
      "01 02 03 04 05 06\n",
      "total_amount\n",
      "2016\n",
      "01 02 03 04 05 06\n"
     ]
    }
   ],
   "source": [
    "for feature_name in feature_list_names:\n",
    "    print feature_name\n",
    "    write_special_df(year_list, month_list, feature_name)"
   ]
  },
  {
   "cell_type": "code",
   "execution_count": null,
   "metadata": {},
   "outputs": [],
   "source": []
  }
 ],
 "metadata": {
  "kernelspec": {
   "display_name": "Python 2",
   "language": "python",
   "name": "python2"
  },
  "language_info": {
   "codemirror_mode": {
    "name": "ipython",
    "version": 2
   },
   "file_extension": ".py",
   "mimetype": "text/x-python",
   "name": "python",
   "nbconvert_exporter": "python",
   "pygments_lexer": "ipython2",
   "version": "2.7.15"
  }
 },
 "nbformat": 4,
 "nbformat_minor": 2
}
