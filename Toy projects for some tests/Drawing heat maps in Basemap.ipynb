{
 "cells": [
  {
   "cell_type": "markdown",
   "metadata": {},
   "source": [
    "http://bagrow.com/dsv/heatmap_basemap.html"
   ]
  },
  {
   "cell_type": "code",
   "execution_count": 24,
   "metadata": {},
   "outputs": [],
   "source": [
    "import csv\n",
    "import numpy as np\n",
    "from mpl_toolkits.basemap import Basemap\n",
    "import matplotlib.pyplot as plt\n",
    "from matplotlib.colors import LinearSegmentedColormap\n",
    "\n",
    "import pandas as pd"
   ]
  },
  {
   "cell_type": "markdown",
   "metadata": {},
   "source": [
    "Загрузка и подготовка данных"
   ]
  },
  {
   "cell_type": "code",
   "execution_count": 25,
   "metadata": {},
   "outputs": [
    {
     "data": {
      "text/html": [
       "<div>\n",
       "<style scoped>\n",
       "    .dataframe tbody tr th:only-of-type {\n",
       "        vertical-align: middle;\n",
       "    }\n",
       "\n",
       "    .dataframe tbody tr th {\n",
       "        vertical-align: top;\n",
       "    }\n",
       "\n",
       "    .dataframe thead th {\n",
       "        text-align: right;\n",
       "    }\n",
       "</style>\n",
       "<table border=\"1\" class=\"dataframe\">\n",
       "  <thead>\n",
       "    <tr style=\"text-align: right;\">\n",
       "      <th></th>\n",
       "      <th>time</th>\n",
       "      <th>latitude</th>\n",
       "      <th>longitude</th>\n",
       "      <th>depth</th>\n",
       "      <th>mag</th>\n",
       "      <th>magType</th>\n",
       "      <th>nst</th>\n",
       "      <th>gap</th>\n",
       "      <th>dmin</th>\n",
       "      <th>rms</th>\n",
       "      <th>...</th>\n",
       "      <th>updated</th>\n",
       "      <th>place</th>\n",
       "      <th>type</th>\n",
       "      <th>horizontalError</th>\n",
       "      <th>depthError</th>\n",
       "      <th>magError</th>\n",
       "      <th>magNst</th>\n",
       "      <th>status</th>\n",
       "      <th>locationSource</th>\n",
       "      <th>magSource</th>\n",
       "    </tr>\n",
       "  </thead>\n",
       "  <tbody>\n",
       "    <tr>\n",
       "      <th>0</th>\n",
       "      <td>2018-12-28T05:56:47.674Z</td>\n",
       "      <td>61.3705</td>\n",
       "      <td>-150.004500</td>\n",
       "      <td>43.90</td>\n",
       "      <td>1.60</td>\n",
       "      <td>ml</td>\n",
       "      <td>NaN</td>\n",
       "      <td>NaN</td>\n",
       "      <td>NaN</td>\n",
       "      <td>0.98</td>\n",
       "      <td>...</td>\n",
       "      <td>2018-12-28T06:02:01.688Z</td>\n",
       "      <td>17km NNW of Anchorage, Alaska</td>\n",
       "      <td>earthquake</td>\n",
       "      <td>NaN</td>\n",
       "      <td>0.50</td>\n",
       "      <td>NaN</td>\n",
       "      <td>NaN</td>\n",
       "      <td>automatic</td>\n",
       "      <td>ak</td>\n",
       "      <td>ak</td>\n",
       "    </tr>\n",
       "    <tr>\n",
       "      <th>1</th>\n",
       "      <td>2018-12-28T05:47:33.184Z</td>\n",
       "      <td>60.6839</td>\n",
       "      <td>-152.223200</td>\n",
       "      <td>83.80</td>\n",
       "      <td>2.10</td>\n",
       "      <td>ml</td>\n",
       "      <td>NaN</td>\n",
       "      <td>NaN</td>\n",
       "      <td>NaN</td>\n",
       "      <td>0.63</td>\n",
       "      <td>...</td>\n",
       "      <td>2018-12-28T05:51:37.999Z</td>\n",
       "      <td>36km NE of Redoubt Volcano, Alaska</td>\n",
       "      <td>earthquake</td>\n",
       "      <td>NaN</td>\n",
       "      <td>1.20</td>\n",
       "      <td>NaN</td>\n",
       "      <td>NaN</td>\n",
       "      <td>automatic</td>\n",
       "      <td>ak</td>\n",
       "      <td>ak</td>\n",
       "    </tr>\n",
       "    <tr>\n",
       "      <th>2</th>\n",
       "      <td>2018-12-28T05:43:57.730Z</td>\n",
       "      <td>33.3690</td>\n",
       "      <td>-116.957001</td>\n",
       "      <td>0.13</td>\n",
       "      <td>1.14</td>\n",
       "      <td>ml</td>\n",
       "      <td>10.0</td>\n",
       "      <td>132.0</td>\n",
       "      <td>0.1939</td>\n",
       "      <td>0.18</td>\n",
       "      <td>...</td>\n",
       "      <td>2018-12-28T05:47:38.313Z</td>\n",
       "      <td>9km W of Palomar Observatory, CA</td>\n",
       "      <td>earthquake</td>\n",
       "      <td>0.69</td>\n",
       "      <td>1.41</td>\n",
       "      <td>0.084</td>\n",
       "      <td>3.0</td>\n",
       "      <td>automatic</td>\n",
       "      <td>ci</td>\n",
       "      <td>ci</td>\n",
       "    </tr>\n",
       "    <tr>\n",
       "      <th>3</th>\n",
       "      <td>2018-12-28T05:31:26.398Z</td>\n",
       "      <td>61.4404</td>\n",
       "      <td>-150.039200</td>\n",
       "      <td>43.60</td>\n",
       "      <td>1.50</td>\n",
       "      <td>ml</td>\n",
       "      <td>NaN</td>\n",
       "      <td>NaN</td>\n",
       "      <td>NaN</td>\n",
       "      <td>0.76</td>\n",
       "      <td>...</td>\n",
       "      <td>2018-12-28T05:36:23.600Z</td>\n",
       "      <td>10km SSW of Big Lake, Alaska</td>\n",
       "      <td>earthquake</td>\n",
       "      <td>NaN</td>\n",
       "      <td>0.50</td>\n",
       "      <td>NaN</td>\n",
       "      <td>NaN</td>\n",
       "      <td>automatic</td>\n",
       "      <td>ak</td>\n",
       "      <td>ak</td>\n",
       "    </tr>\n",
       "    <tr>\n",
       "      <th>4</th>\n",
       "      <td>2018-12-28T05:23:33.090Z</td>\n",
       "      <td>19.1726</td>\n",
       "      <td>-67.242600</td>\n",
       "      <td>36.00</td>\n",
       "      <td>3.24</td>\n",
       "      <td>md</td>\n",
       "      <td>18.0</td>\n",
       "      <td>291.0</td>\n",
       "      <td>0.7172</td>\n",
       "      <td>0.53</td>\n",
       "      <td>...</td>\n",
       "      <td>2018-12-28T05:54:22.252Z</td>\n",
       "      <td>76km NNW of San Antonio, Puerto Rico</td>\n",
       "      <td>earthquake</td>\n",
       "      <td>2.74</td>\n",
       "      <td>13.56</td>\n",
       "      <td>0.350</td>\n",
       "      <td>15.0</td>\n",
       "      <td>reviewed</td>\n",
       "      <td>pr</td>\n",
       "      <td>pr</td>\n",
       "    </tr>\n",
       "  </tbody>\n",
       "</table>\n",
       "<p>5 rows × 22 columns</p>\n",
       "</div>"
      ],
      "text/plain": [
       "                       time  latitude   longitude  depth   mag magType   nst  \\\n",
       "0  2018-12-28T05:56:47.674Z   61.3705 -150.004500  43.90  1.60      ml   NaN   \n",
       "1  2018-12-28T05:47:33.184Z   60.6839 -152.223200  83.80  2.10      ml   NaN   \n",
       "2  2018-12-28T05:43:57.730Z   33.3690 -116.957001   0.13  1.14      ml  10.0   \n",
       "3  2018-12-28T05:31:26.398Z   61.4404 -150.039200  43.60  1.50      ml   NaN   \n",
       "4  2018-12-28T05:23:33.090Z   19.1726  -67.242600  36.00  3.24      md  18.0   \n",
       "\n",
       "     gap    dmin   rms    ...                      updated  \\\n",
       "0    NaN     NaN  0.98    ...     2018-12-28T06:02:01.688Z   \n",
       "1    NaN     NaN  0.63    ...     2018-12-28T05:51:37.999Z   \n",
       "2  132.0  0.1939  0.18    ...     2018-12-28T05:47:38.313Z   \n",
       "3    NaN     NaN  0.76    ...     2018-12-28T05:36:23.600Z   \n",
       "4  291.0  0.7172  0.53    ...     2018-12-28T05:54:22.252Z   \n",
       "\n",
       "                                  place        type horizontalError  \\\n",
       "0         17km NNW of Anchorage, Alaska  earthquake             NaN   \n",
       "1    36km NE of Redoubt Volcano, Alaska  earthquake             NaN   \n",
       "2      9km W of Palomar Observatory, CA  earthquake            0.69   \n",
       "3          10km SSW of Big Lake, Alaska  earthquake             NaN   \n",
       "4  76km NNW of San Antonio, Puerto Rico  earthquake            2.74   \n",
       "\n",
       "  depthError  magError  magNst     status  locationSource magSource  \n",
       "0       0.50       NaN     NaN  automatic              ak        ak  \n",
       "1       1.20       NaN     NaN  automatic              ak        ak  \n",
       "2       1.41     0.084     3.0  automatic              ci        ci  \n",
       "3       0.50       NaN     NaN  automatic              ak        ak  \n",
       "4      13.56     0.350    15.0   reviewed              pr        pr  \n",
       "\n",
       "[5 rows x 22 columns]"
      ]
     },
     "execution_count": 25,
     "metadata": {},
     "output_type": "execute_result"
    }
   ],
   "source": [
    "raw_data = pd.read_csv('earthquake_data.csv')\n",
    "raw_data.head()"
   ]
  },
  {
   "cell_type": "code",
   "execution_count": 26,
   "metadata": {},
   "outputs": [],
   "source": [
    "selection = (raw_data.latitude>25) & (raw_data.latitude<55) & (raw_data.longitude>-130) & (raw_data.longitude<-100)"
   ]
  },
  {
   "cell_type": "code",
   "execution_count": 27,
   "metadata": {},
   "outputs": [],
   "source": [
    "data = raw_data[~selection]"
   ]
  },
  {
   "cell_type": "code",
   "execution_count": 28,
   "metadata": {},
   "outputs": [
    {
     "name": "stdout",
     "output_type": "stream",
     "text": [
      " Размер данных до фильтрафции: (1554, 22)\n",
      " Размер даннных после фильтрафии: (1113, 22)\n"
     ]
    }
   ],
   "source": [
    "print ' Размер данных до фильтрафции: {}\\n Размер даннных после фильтрафии: {}'.format(raw_data.shape, data.shape)"
   ]
  },
  {
   "cell_type": "markdown",
   "metadata": {},
   "source": [
    "Подготовка значений  матрицы плотности и координат для heatmap"
   ]
  },
  {
   "cell_type": "code",
   "execution_count": null,
   "metadata": {},
   "outputs": [],
   "source": [
    "db = 1 #шаг bins\n",
    "lon_bins = np.linspace(min(data.longitude) - db, max(data.longitude) + db, 10+1) #10 bins\n",
    "lat_bins = np.linspace(min(data.latitude) - db, max(data.latitude)+ db, 13+1) #13 bins\n",
    "density, _, _ = np.histogram2d(data.latitude, data.longitude, [lat_bins, lon_bins])\n",
    "\n",
    "lon_bins_2d, lat_bins_2d = np.meshgrid(lon_bins, lat_bins)"
   ]
  },
  {
   "cell_type": "markdown",
   "metadata": {},
   "source": [
    "Отрисовка карты"
   ]
  },
  {
   "cell_type": "code",
   "execution_count": null,
   "metadata": {},
   "outputs": [],
   "source": []
  },
  {
   "cell_type": "code",
   "execution_count": 54,
   "metadata": {},
   "outputs": [
    {
     "data": {
      "image/png": "[encoded data removed]",
      "text/plain": [
       "<matplotlib.figure.Figure at 0xebf2f60>"
      ]
     },
     "metadata": {},
     "output_type": "display_data"
    }
   ],
   "source": [
    "plt.figure(figsize = (15, 10))\n",
    "m  = Basemap(projection='ortho',lon_0=-119,lat_0=37,resolution='l',\n",
    "             llcrnrx=-1000*1000,llcrnry=-1000*1000,\n",
    "             urcrnrx=+1150*1000,urcrnry=+1700*1000)\n",
    "m.drawcoastlines()\n",
    "m.drawcountries()\n",
    "m.drawstates()\n",
    "\n",
    "xs, ys = m(lon_bins_2d, lat_bins_2d)\n",
    "plt.pcolormesh(xs, ys, density, cmap = 'GnBu')\n",
    "\n",
    "x, y = m(data.longitude.values, data.latitude.values)\n",
    "m.plot(x, y, '*', markersize = 20)\n",
    "\n",
    "\n",
    "m.drawmapscale(-119-6, 37-7.2, -119-6, 37-7.2, 500, barstyle='fancy', yoffset=20000)\n",
    "\n",
    "plt.show()"
   ]
  },
  {
   "cell_type": "code",
   "execution_count": null,
   "metadata": {},
   "outputs": [],
   "source": []
  },
  {
   "cell_type": "code",
   "execution_count": null,
   "metadata": {},
   "outputs": [],
   "source": []
  }
 ],
 "metadata": {
  "kernelspec": {
   "display_name": "Python 2",
   "language": "python",
   "name": "python2"
  },
  "language_info": {
   "codemirror_mode": {
    "name": "ipython",
    "version": 2
   },
   "file_extension": ".py",
   "mimetype": "text/x-python",
   "name": "python",
   "nbconvert_exporter": "python",
   "pygments_lexer": "ipython2",
   "version": "2.7.15"
  }
 },
 "nbformat": 4,
 "nbformat_minor": 2
}
